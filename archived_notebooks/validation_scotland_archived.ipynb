{
 "cells": [
  {
   "cell_type": "markdown",
   "id": "43c5ddc3",
   "metadata": {},
   "source": [
    "# Validation of Trained All IBD Fatigue ML Model on Scottish Data"
   ]
  },
  {
   "cell_type": "code",
   "execution_count": 1,
   "id": "0f1c7d5a",
   "metadata": {},
   "outputs": [
    {
     "name": "stderr",
     "output_type": "stream",
     "text": [
      "/Users/chershiongchuah/Developer/machine_learning_for_ibd_fatigue/venv/lib/python3.11/site-packages/tqdm/auto.py:21: TqdmWarning: IProgress not found. Please update jupyter and ipywidgets. See https://ipywidgets.readthedocs.io/en/stable/user_install.html\n",
      "  from .autonotebook import tqdm as notebook_tqdm\n"
     ]
    }
   ],
   "source": [
    "import pandas as pd\n",
    "import matplotlib.pyplot as plt\n",
    "import seaborn as sns\n",
    "import joblib\n",
    "import keras\n",
    "import numpy as np\n",
    "import pickle\n",
    "import shap\n",
    "import pickle\n",
    "import statsmodels.api as sm\n",
    "from pathlib import Path\n",
    "\n",
    "from sklearn.metrics import roc_curve, auc, classification_report, confusion_matrix\n",
    "\n",
    "from src.data.loading import load_dnn_model\n",
    "from src.data.preprocessing import map_season, fill_missing_values_with_saved_medians\n",
    "from src.data.conversions import (\n",
    "    capitalize_first_letter,\n",
    ")\n",
    "from src.config.constants import NUMERICAL_FEATURES\n",
    "from src.config.paths import DNN_DIR, BENCHMARKING_DIR\n",
    "from src.visualization.plotting import plot_missing_data_heatmap"
   ]
  },
  {
   "cell_type": "code",
   "execution_count": 2,
   "id": "e7dee866",
   "metadata": {},
   "outputs": [
    {
     "name": "stderr",
     "output_type": "stream",
     "text": [
      "/Users/chershiongchuah/Developer/machine_learning_for_ibd_fatigue/venv/lib/python3.11/site-packages/openpyxl/worksheet/_reader.py:329: UserWarning: Data Validation extension is not supported and will be removed\n",
      "  warn(msg)\n"
     ]
    }
   ],
   "source": [
    "df = pd.read_excel(\n",
    "    \"data/fatigue_ml_data_validation_scotland.xlsx\", sheet_name=\"fatigue_validation\"\n",
    ")"
   ]
  },
  {
   "cell_type": "code",
   "execution_count": 3,
   "id": "7b608a2d",
   "metadata": {},
   "outputs": [],
   "source": [
    "target_df = pd.read_csv(DNN_DIR / \"exports\" / \"X_test.csv\")"
   ]
  },
  {
   "cell_type": "code",
   "execution_count": 4,
   "id": "ef55c742",
   "metadata": {},
   "outputs": [],
   "source": [
    "# Load the model, scaler, and explainer\n",
    "model, scaler, explainer = load_dnn_model(model_date=\"2025-04-24\")"
   ]
  },
  {
   "cell_type": "markdown",
   "id": "174ac889",
   "metadata": {},
   "source": [
    "## Transform Excel Data to Match Input DataFrame"
   ]
  },
  {
   "cell_type": "code",
   "execution_count": 5,
   "id": "2df1c764",
   "metadata": {},
   "outputs": [],
   "source": [
    "# Strip whitespace from values in the following columns\n",
    "cols_to_strip_whitespace = [\n",
    "    \"sex\",\n",
    "    \"smoking_status\",\n",
    "    \"montreal_cd_location\",\n",
    "    \"montreal_cd_behaviour\",\n",
    "    \"montreal_uc_severity\",\n",
    "    \"montreal_uc_extent\",\n",
    "]\n",
    "\n",
    "for col in cols_to_strip_whitespace:\n",
    "    df[col] = df[col].astype(str).str.strip()"
   ]
  },
  {
   "cell_type": "code",
   "execution_count": 6,
   "id": "f160dfba",
   "metadata": {},
   "outputs": [
    {
     "data": {
      "text/plain": [
       "smoking_status\n",
       "Non-smoker    46\n",
       "Ex-smoker     11\n",
       "Smoker         4\n",
       "Name: count, dtype: int64"
      ]
     },
     "execution_count": 6,
     "metadata": {},
     "output_type": "execute_result"
    }
   ],
   "source": [
    "df[\"smoking_status\"].value_counts()\n",
    "\n",
    "# Remove (vape) from suffix\n",
    "df[\"smoking_status\"] = df[\"smoking_status\"].str.replace(r\"\\s*\\(vape\\)\", \"\", regex=True)\n",
    "df[\"smoking_status\"].value_counts()\n",
    "\n",
    "# Map the smoking values\n",
    "df[\"smoking_status\"] = df[\"smoking_status\"].map(\n",
    "    {\n",
    "        \"Non smoker\": \"Non-smoker\",\n",
    "        \"Ex smoker\": \"Ex-smoker\",\n",
    "        \"Current smoker\": \"Smoker\",\n",
    "        \"Smoker\": \"Smoker\",\n",
    "    }\n",
    ")\n",
    "df[\"smoking_status\"].value_counts()"
   ]
  },
  {
   "cell_type": "code",
   "execution_count": 7,
   "id": "b3d519a9",
   "metadata": {},
   "outputs": [],
   "source": [
    "df[\"fatigue_outcome\"] = df[\n",
    "    \"On how many days over the last 14 days have you felt fatigued? (0-14)\"\n",
    "].apply(lambda x: 1 if x >= 10 else 0)"
   ]
  },
  {
   "cell_type": "code",
   "execution_count": 8,
   "id": "99ab52d8",
   "metadata": {},
   "outputs": [],
   "source": [
    "# Transform Excel File into the same shape as the data used for the ml model\n",
    "df[\"sex\"] = df[\"sex\"].map({\"Male\": 1, \"Female\": 0})"
   ]
  },
  {
   "cell_type": "code",
   "execution_count": 9,
   "id": "ef2f0a68",
   "metadata": {},
   "outputs": [],
   "source": [
    "cols_to_rename = {\n",
    "    \"height_cm\": \"height\",\n",
    "    \"weight_kg\": \"weight\",\n",
    "    \"has_symptoms_of_active_ibd\": \"has_active_symptoms\",\n",
    "    \"sampling_aminosalicylates (any)\": \"sampling_asa\",\n",
    "    \"sampling_antibiotics\": \"sampling_abx\",\n",
    "    \"study_group\": \"study_group_name\",\n",
    "    \"smoking_status\": \"is_smoker\",\n",
    "    \"Date Referred\": \"date_recorded\",\n",
    "}\n",
    "\n",
    "df.rename(columns=cols_to_rename, inplace=True)"
   ]
  },
  {
   "cell_type": "code",
   "execution_count": 10,
   "id": "befccc46",
   "metadata": {},
   "outputs": [],
   "source": [
    "df[\"bmi\"] = df[\"weight\"] / ((df[\"height\"] / 100) ** 2)"
   ]
  },
  {
   "cell_type": "code",
   "execution_count": 11,
   "id": "c712f347",
   "metadata": {},
   "outputs": [],
   "source": [
    "# calculate age at diagnosis based on age this year 2025, minus the year of date_of_diagnosis\n",
    "df[\"age_at_diagnosis\"] = df[\"age\"] - (2025 - df[\"date_of_diagnosis\"].dt.year)"
   ]
  },
  {
   "cell_type": "markdown",
   "id": "ac48c8e2",
   "metadata": {},
   "source": [
    "# Feature Engineering Matching Up to Data Preprocessing Notebook"
   ]
  },
  {
   "cell_type": "code",
   "execution_count": 12,
   "id": "478d3eb9",
   "metadata": {},
   "outputs": [],
   "source": [
    "# Match up with 2_ml_data_preprocessing.py\n",
    "\n",
    "df[\"disease_duration_weeks\"] = (\n",
    "    df[\"date_recorded\"] - df[\"date_of_diagnosis\"]\n",
    ").dt.days / 7\n",
    "df[\"season\"] = df[\"date_recorded\"].apply(map_season)\n",
    "df[\"diagnosis_year\"] = df[\"date_of_diagnosis\"].dt.year"
   ]
  },
  {
   "cell_type": "code",
   "execution_count": 13,
   "id": "d80f64b5",
   "metadata": {},
   "outputs": [],
   "source": [
    "# Remove < from calprotectin\n",
    "df[\"calprotectin\"] = df[\"calprotectin\"].astype(str).str.replace(\"<\", \"\")\n",
    "# Convert calprotectin to float\n",
    "df[\"calprotectin\"] = df[\"calprotectin\"].astype(float)"
   ]
  },
  {
   "cell_type": "code",
   "execution_count": 14,
   "id": "f5b3d4c9",
   "metadata": {},
   "outputs": [],
   "source": [
    "# Ensure study_group_name is a string\n",
    "df[\"study_group_name\"] = df[\"study_group_name\"].astype(str)\n",
    "df[\"study_group_name\"] = df[\"study_group_name\"].apply(lambda x: x.upper())"
   ]
  },
  {
   "cell_type": "code",
   "execution_count": 15,
   "id": "79e08285",
   "metadata": {},
   "outputs": [],
   "source": [
    "# Change Yes and No to 1 and 0 for the following columns\n",
    "cols_to_map = [\n",
    "    \"montreal_upper_gi\",\n",
    "    \"montreal_perianal\",\n",
    "    \"sampling_steroids\",\n",
    "    \"sampling_abx\",\n",
    "    \"sampling_asa\",\n",
    "    \"sampling_aza\",\n",
    "    \"sampling_mp\",\n",
    "    \"sampling_ifx\",\n",
    "    \"sampling_ada\",\n",
    "    \"sampling_vedo\",\n",
    "    \"sampling_uste\",\n",
    "    \"sampling_tofa\",\n",
    "    \"sampling_mtx\",\n",
    "    \"sampling_ciclosporin\",\n",
    "    \"sampling_filgo\",\n",
    "    \"sampling_upa\",\n",
    "    \"sampling_risa\",\n",
    "    \"has_active_symptoms\",\n",
    "]\n",
    "\n",
    "for col in cols_to_map:\n",
    "    df[col] = df[col].map({\"Yes\": 1, \"No\": 0})"
   ]
  },
  {
   "cell_type": "code",
   "execution_count": 16,
   "id": "c9aaa872",
   "metadata": {},
   "outputs": [
    {
     "data": {
      "text/plain": [
       "montreal_uc_extent\n",
       "nan              42\n",
       "E3 Extensive      9\n",
       "E1 Proctitis      6\n",
       "E2 Left-sided     4\n",
       "Name: count, dtype: int64"
      ]
     },
     "execution_count": 16,
     "metadata": {},
     "output_type": "execute_result"
    }
   ],
   "source": [
    "df[\"montreal_uc_extent\"].value_counts()\n",
    "\n",
    "df[\"montreal_uc_extent\"] = df[\"montreal_uc_extent\"].replace(\n",
    "    {\n",
    "        \"E2\": \"E2 Left-sided\",\n",
    "    }\n",
    ")\n",
    "df[\"montreal_uc_extent\"].value_counts()"
   ]
  },
  {
   "cell_type": "code",
   "execution_count": 17,
   "id": "64602ebd",
   "metadata": {},
   "outputs": [
    {
     "data": {
      "text/plain": [
       "montreal_cd_behaviour\n",
       "B1 Non-stricturing, non-penetrating    30\n",
       "nan                                    21\n",
       "B2 Stricturing                          5\n",
       "B3 Penetrating                          5\n",
       "Name: count, dtype: int64"
      ]
     },
     "execution_count": 17,
     "metadata": {},
     "output_type": "execute_result"
    }
   ],
   "source": [
    "df[\"montreal_cd_behaviour\"].value_counts()"
   ]
  },
  {
   "cell_type": "code",
   "execution_count": 18,
   "id": "881853b7",
   "metadata": {},
   "outputs": [
    {
     "data": {
      "text/plain": [
       "montreal_cd_behaviour\n",
       "B1 Non-stricturing, non-penetrating    30\n",
       "nan                                    21\n",
       "B2 Stricturing                          5\n",
       "B3 Penetrating                          5\n",
       "Name: count, dtype: int64"
      ]
     },
     "execution_count": 18,
     "metadata": {},
     "output_type": "execute_result"
    }
   ],
   "source": [
    "df[\"montreal_cd_behaviour\"].value_counts()"
   ]
  },
  {
   "cell_type": "code",
   "execution_count": 19,
   "id": "6bcade20",
   "metadata": {},
   "outputs": [
    {
     "data": {
      "text/plain": [
       "montreal_cd_location\n",
       "L3 Ileocolonic    21\n",
       "nan               21\n",
       "L2 Colonic        10\n",
       "L1 Ileal           9\n",
       "Name: count, dtype: int64"
      ]
     },
     "execution_count": 19,
     "metadata": {},
     "output_type": "execute_result"
    }
   ],
   "source": [
    "df[\"montreal_cd_location\"].value_counts()\n"
   ]
  },
  {
   "cell_type": "code",
   "execution_count": 20,
   "id": "28449c47",
   "metadata": {},
   "outputs": [],
   "source": [
    "# Capitalize the first letter in smoking_status\n",
    "df[\"is_smoker\"] = df[\"is_smoker\"].apply(capitalize_first_letter)"
   ]
  },
  {
   "cell_type": "code",
   "execution_count": 21,
   "id": "77d3df02",
   "metadata": {},
   "outputs": [],
   "source": [
    "medians_path = DNN_DIR / \"exports\" / \"medians.json\"\n",
    "df = fill_missing_values_with_saved_medians(df, medians_path=medians_path)"
   ]
  },
  {
   "cell_type": "markdown",
   "id": "0a75e867",
   "metadata": {},
   "source": [
    "### One-Hot Encoding of Categorical Variables"
   ]
  },
  {
   "cell_type": "code",
   "execution_count": 22,
   "id": "306406fd",
   "metadata": {},
   "outputs": [],
   "source": [
    "cols_to_fix_nans = [\n",
    "    \"montreal_cd_location\",\n",
    "    \"montreal_cd_behaviour\",\n",
    "    \"montreal_uc_severity\",\n",
    "    \"montreal_uc_extent\",\n",
    "    \"study_group_name\",\n",
    "]\n",
    "\n",
    "# replace nan values with np.nan\n",
    "for col in cols_to_fix_nans:\n",
    "    df[col] = df[col].replace(\"nan\", np.nan)\n",
    "    df[col] = df[col].replace(\"NaN\", np.nan)\n",
    "    df[col] = df[col].replace(\"NAN\", np.nan)\n"
   ]
  },
  {
   "cell_type": "code",
   "execution_count": 23,
   "id": "10e5144a",
   "metadata": {},
   "outputs": [],
   "source": [
    "categorical_features_for_one_hot_encoding = [\n",
    "    \"study_group_name\",\n",
    "    \"montreal_cd_location\",\n",
    "    \"montreal_cd_behaviour\",\n",
    "    \"montreal_uc_extent\",\n",
    "    \"montreal_uc_severity\",\n",
    "    \"is_smoker\",\n",
    "    \"season\",\n",
    "]\n",
    "\n",
    "df = pd.get_dummies(df, columns=categorical_features_for_one_hot_encoding, dtype=int)"
   ]
  },
  {
   "cell_type": "markdown",
   "id": "f826b65f",
   "metadata": {},
   "source": [
    "### Fill in empty seasons"
   ]
  },
  {
   "cell_type": "code",
   "execution_count": 24,
   "id": "58402f42",
   "metadata": {},
   "outputs": [],
   "source": [
    "# check if season_autumn, season_summer, season_winter, season_spring are in the columns, if not in columns create it and fill with 0\n",
    "\n",
    "for season in [\"autumn\", \"summer\", \"winter\", \"spring\"]:\n",
    "    if f\"season_{season}\" not in df.columns:\n",
    "        df[f\"season_{season}\"] = 0\n",
    "        df[f\"season_{season}\"] = df[f\"season_{season}\"].astype(int)"
   ]
  },
  {
   "cell_type": "code",
   "execution_count": 25,
   "id": "53e34b54",
   "metadata": {},
   "outputs": [],
   "source": [
    "cols_to_drop = [\n",
    "    \"Who collected this data\",\n",
    "    \"Clinical Setting (inpatient, outpatient, endoscopy, infusion unit, etc.)\",\n",
    "    \"On how many days over the last 14 days have you felt fatigued? (0-14)\",\n",
    "    \"date_of_diagnosis\",\n",
    "    \"date_recorded\",\n",
    "]\n",
    "\n",
    "# Drop columns that are not needed\n",
    "df.drop(columns=cols_to_drop, inplace=True)"
   ]
  },
  {
   "cell_type": "code",
   "execution_count": 26,
   "id": "8c68c8be",
   "metadata": {},
   "outputs": [],
   "source": [
    "# Add this columns as no patients had these features\n",
    "cols_to_add = [\n",
    "    \"montreal_uc_severity_S3 Severe\",\n",
    "    \"montreal_uc_severity_S2 Moderate\",\n",
    "]\n",
    "for col in cols_to_add:\n",
    "    if col not in df.columns:\n",
    "        df[col] = 0\n",
    "        df[col] = df[col].astype(int)"
   ]
  },
  {
   "cell_type": "code",
   "execution_count": 27,
   "id": "a33fc8cd",
   "metadata": {},
   "outputs": [
    {
     "name": "stdout",
     "output_type": "stream",
     "text": [
      "Columns in df that are not in target_df:{'fatigue_outcome'}\n",
      "Columns in target_df that are not in df:set()\n"
     ]
    }
   ],
   "source": [
    "# Compare columns in df and target_df\n",
    "# Check for columns in df that are not in target_df\n",
    "df_columns_not_in_target_df = set(df.columns) - set(target_df.columns)\n",
    "\n",
    "print(\"Columns in df that are not in target_df:\" + str(df_columns_not_in_target_df))\n",
    "target_df_columns_not_in_df = set(target_df.columns) - set(df.columns)\n",
    "print(\"Columns in target_df that are not in df:\" + str(target_df_columns_not_in_df))\n"
   ]
  },
  {
   "cell_type": "markdown",
   "id": "dea0c136",
   "metadata": {},
   "source": [
    "## Check for Missing Data"
   ]
  },
  {
   "cell_type": "code",
   "execution_count": 28,
   "id": "0bc5fc95",
   "metadata": {},
   "outputs": [],
   "source": [
    "nans_to_fill_with_zero = [\n",
    "    \"montreal_upper_gi\",\n",
    "    \"montreal_perianal\",\n",
    "    \"sampling_steroids\",\n",
    "    \"sampling_abx\",\n",
    "    \"sampling_asa\",\n",
    "    \"sampling_aza\",\n",
    "    \"sampling_mp\",\n",
    "    \"sampling_ifx\",\n",
    "    \"sampling_ada\",\n",
    "    \"sampling_vedo\",\n",
    "    \"sampling_uste\",\n",
    "    \"sampling_tofa\",\n",
    "    \"sampling_mtx\",\n",
    "    \"sampling_ciclosporin\",\n",
    "    \"sampling_filgo\",\n",
    "    \"sampling_upa\",\n",
    "    \"sampling_risa\",\n",
    "    \"has_active_symptoms\",\n",
    "]\n",
    "\n",
    "# Fill NaN values with 0\n",
    "for col in nans_to_fill_with_zero:\n",
    "    df[col] = df[col].fillna(0)"
   ]
  },
  {
   "cell_type": "code",
   "execution_count": 29,
   "id": "877eee89",
   "metadata": {},
   "outputs": [],
   "source": [
    "# Temp fix to delete later\n",
    "\n",
    "# Fill missing sex with 1\n",
    "df[\"sex\"] = df[\"sex\"].fillna(1)"
   ]
  },
  {
   "cell_type": "markdown",
   "id": "8c63c819",
   "metadata": {},
   "source": [
    "## Create X_scotland and y_scotland DataFrames\n",
    "\n",
    "Perform checking to ensure they match input dataframe"
   ]
  },
  {
   "cell_type": "code",
   "execution_count": 30,
   "id": "79a32bd7",
   "metadata": {},
   "outputs": [],
   "source": [
    "# Create Y_scotland\n",
    "y_scotland = df[\"fatigue_outcome\"].copy()\n",
    "X_scotland = df.drop(columns=[\"fatigue_outcome\"]).copy()\n",
    "X_scotland = X_scotland[target_df.columns]\n",
    "\n",
    "# Verify columns match\n",
    "assert set(X_scotland.columns) == set(target_df.columns), \"Columns do not match!\""
   ]
  },
  {
   "cell_type": "code",
   "execution_count": 31,
   "id": "c60066a7",
   "metadata": {},
   "outputs": [
    {
     "name": "stdout",
     "output_type": "stream",
     "text": [
      "Column order matches: True\n"
     ]
    }
   ],
   "source": [
    "# Check if column order matches\n",
    "columns_match = all(\n",
    "    X_scotland.columns[i] == target_df.columns[i]\n",
    "    for i in range(len(X_scotland.columns))\n",
    ")\n",
    "print(f\"Column order matches: {columns_match}\")"
   ]
  },
  {
   "cell_type": "code",
   "execution_count": 32,
   "id": "73479002",
   "metadata": {},
   "outputs": [
    {
     "name": "stdout",
     "output_type": "stream",
     "text": [
      "\n",
      "Checking data types match:\n",
      "All data types match!\n"
     ]
    }
   ],
   "source": [
    "# Ensure datatypes match\n",
    "for col in X_scotland.columns:\n",
    "    X_scotland[col] = X_scotland[col].astype(target_df[col].dtype)\n",
    "\n",
    "# Verify all data types match\n",
    "print(\"\\nChecking data types match:\")\n",
    "mismatched_types = [\n",
    "    (col, X_scotland[col].dtype, target_df[col].dtype)\n",
    "    for col in X_scotland.columns\n",
    "    if X_scotland[col].dtype != target_df[col].dtype\n",
    "]\n",
    "if mismatched_types:\n",
    "    print(\"Mismatched types:\", mismatched_types)\n",
    "else:\n",
    "    print(\"All data types match!\")"
   ]
  },
  {
   "cell_type": "markdown",
   "id": "461a6be1",
   "metadata": {},
   "source": [
    "## Scale Data"
   ]
  },
  {
   "cell_type": "code",
   "execution_count": 33,
   "id": "5c975db6",
   "metadata": {},
   "outputs": [],
   "source": [
    "numerical_features = [\n",
    "    col\n",
    "    for col in NUMERICAL_FEATURES\n",
    "    if col not in [\"haematocrit\", \"ada_drug_level\", \"ifx_drug_level\"]\n",
    "]\n",
    "\n",
    "# Apply the same scaling\n",
    "X_scotland[numerical_features] = scaler.transform(X_scotland[numerical_features])"
   ]
  },
  {
   "cell_type": "markdown",
   "id": "57c01402",
   "metadata": {},
   "source": [
    "## Load the Keras Model"
   ]
  },
  {
   "cell_type": "code",
   "execution_count": 34,
   "id": "267cba56",
   "metadata": {},
   "outputs": [
    {
     "name": "stdout",
     "output_type": "stream",
     "text": [
      "\u001b[1m2/2\u001b[0m \u001b[32m━━━━━━━━━━━━━━━━━━━━\u001b[0m\u001b[37m\u001b[0m \u001b[1m0s\u001b[0m 26ms/step\n",
      "\n",
      "Classification Report:\n",
      "              precision    recall  f1-score   support\n",
      "\n",
      "           0       0.53      0.75      0.62        28\n",
      "           1       0.67      0.42      0.52        33\n",
      "\n",
      "    accuracy                           0.57        61\n",
      "   macro avg       0.60      0.59      0.57        61\n",
      "weighted avg       0.60      0.57      0.56        61\n",
      "\n"
     ]
    }
   ],
   "source": [
    "# Get probability predictions\n",
    "y_pred_proba = model.predict(X_scotland)\n",
    "# Get binary predictions using 0.5 threshold\n",
    "y_pred = (y_pred_proba >= 0.5).astype(int)\n",
    "\n",
    "# Print classification report\n",
    "print(\"\\nClassification Report:\")\n",
    "print(classification_report(y_scotland, y_pred))"
   ]
  },
  {
   "cell_type": "code",
   "execution_count": 35,
   "id": "73cf5e34",
   "metadata": {},
   "outputs": [],
   "source": [
    "try:\n",
    "    with open(BENCHMARKING_DIR / \"statsmodels_logreg.pkl\", \"rb\") as f:\n",
    "        logreg_model = pickle.load(f)\n",
    "\n",
    "    # Prepare data for statsmodels prediction (add constant if needed)\n",
    "    X_scotland_const = sm.add_constant(X_scotland)\n",
    "\n",
    "    # Ensure columns match the model's exog_names, adding missing ones with 0 if necessary\n",
    "    missing_cols = set(logreg_model.params.index) - set(X_scotland_const.columns)\n",
    "    for c in missing_cols:\n",
    "        X_scotland_const[c] = 0\n",
    "    # Ensure the order of columns matches the model's parameters\n",
    "    X_scotland_const = X_scotland_const[logreg_model.params.index]\n",
    "\n",
    "    # Get probability predictions for Logistic Regression model\n",
    "    y_pred_proba_logreg = logreg_model.predict(X_scotland_const)\n",
    "\n",
    "    # Calculate ROC curve and AUC for Logistic Regression model\n",
    "    fpr_logreg, tpr_logreg, _ = roc_curve(y_scotland, y_pred_proba_logreg)\n",
    "    roc_auc_logreg = auc(fpr_logreg, tpr_logreg)\n",
    "\n",
    "    logreg_loaded = True\n",
    "except FileNotFoundError:\n",
    "    print(\n",
    "        \"\\\\nWarning: Logistic regression model file not found at output/statsmodels/stasmodels_logreg.pkl\"\n",
    "    )\n",
    "    logreg_loaded = False\n",
    "except Exception as e:\n",
    "    print(f\"\\\\nError loading or predicting with logistic regression model: {e}\")\n",
    "    logreg_loaded = False"
   ]
  },
  {
   "cell_type": "code",
   "execution_count": 36,
   "id": "e3f5206b",
   "metadata": {},
   "outputs": [
    {
     "data": {
      "image/png": "[encoded data removed]",
      "text/plain": [
       "<Figure size 800x600 with 1 Axes>"
      ]
     },
     "metadata": {},
     "output_type": "display_data"
    },
    {
     "name": "stdout",
     "output_type": "stream",
     "text": [
      "AUC Score (Keras DNN): 0.618\n",
      "AUC Score (Logistic Regression): 0.629\n"
     ]
    }
   ],
   "source": [
    "# Calculate ROC curve and AUC\n",
    "fpr, tpr, _ = roc_curve(y_scotland, y_pred_proba)\n",
    "roc_auc = auc(fpr, tpr)\n",
    "\n",
    "# Plot ROC curve\n",
    "plt.figure(figsize=(8, 6))\n",
    "plt.plot(fpr, tpr, color=\"darkorange\", lw=2, label=f\"DNN (AUC = {roc_auc:.2f})\")\n",
    "\n",
    "# Plot Logistic Regression ROC if loaded successfully\n",
    "if logreg_loaded:\n",
    "    plt.plot(\n",
    "        fpr_logreg,\n",
    "        tpr_logreg,\n",
    "        color=\"blue\",\n",
    "        lw=2,\n",
    "        label=f\"Logistic Regression (AUC = {roc_auc_logreg:.2f})\",\n",
    "    )\n",
    "\n",
    "plt.plot([0, 1], [0, 1], color=\"navy\", lw=2, linestyle=\"--\")\n",
    "plt.xlim([0.0, 1.0])\n",
    "plt.ylim([0.0, 1.05])\n",
    "plt.xlabel(\"False Positive Rate\")\n",
    "plt.ylabel(\"True Positive Rate\")\n",
    "plt.title(\"ROC Curve - Scotland Validation Dataset\")\n",
    "plt.legend(loc=\"lower right\")\n",
    "plt.grid(True)\n",
    "plt.show()\n",
    "\n",
    "# Print AUC score for Keras model\n",
    "print(f\"AUC Score (Keras DNN): {roc_auc:.3f}\")\n",
    "# Print AUC score for Logistic Regression model if loaded\n",
    "if logreg_loaded:\n",
    "    print(f\"AUC Score (Logistic Regression): {roc_auc_logreg:.3f}\")"
   ]
  },
  {
   "cell_type": "code",
   "execution_count": 37,
   "id": "581191a9",
   "metadata": {},
   "outputs": [
    {
     "data": {
      "image/png": "[encoded data removed]",
      "text/plain": [
       "<Figure size 1000x800 with 2 Axes>"
      ]
     },
     "metadata": {},
     "output_type": "display_data"
    },
    {
     "name": "stdout",
     "output_type": "stream",
     "text": [
      "\n",
      "Detailed Confusion Matrix Interpretation:\n",
      "True Negatives (Correctly predicted no fatigue): 21\n",
      "False Positives (Incorrectly predicted fatigue): 7\n",
      "False Negatives (Incorrectly predicted no fatigue): 19\n",
      "True Positives (Correctly predicted fatigue): 14\n",
      "\n",
      "Key Metrics:\n",
      "Specificity (True Negative Rate): 0.750\n",
      "Sensitivity (True Positive Rate): 0.424\n",
      "Positive Predictive Value: 0.667\n",
      "Negative Predictive Value: 0.525\n"
     ]
    }
   ],
   "source": [
    "# Create and plot confusion matrix with labels\n",
    "cm = confusion_matrix(y_scotland, y_pred)\n",
    "\n",
    "plt.figure(figsize=(10, 8))\n",
    "sns.heatmap(\n",
    "    cm,\n",
    "    annot=True,\n",
    "    fmt=\"d\",\n",
    "    cmap=\"Blues\",\n",
    "    xticklabels=[\"No Fatigue (0)\", \"Fatigue (1)\"],\n",
    "    yticklabels=[\"No Fatigue (0)\", \"Fatigue (1)\"],\n",
    ")\n",
    "plt.title(\"Confusion Matrix - Scotlandn Validation Dataset\")\n",
    "plt.ylabel(\"True Label\")\n",
    "plt.xlabel(\"Predicted Label\")\n",
    "plt.show()\n",
    "\n",
    "# Calculate and display detailed metrics\n",
    "tn, fp, fn, tp = cm.ravel()\n",
    "print(\"\\nDetailed Confusion Matrix Interpretation:\")\n",
    "print(f\"True Negatives (Correctly predicted no fatigue): {tn}\")\n",
    "print(f\"False Positives (Incorrectly predicted fatigue): {fp}\")\n",
    "print(f\"False Negatives (Incorrectly predicted no fatigue): {fn}\")\n",
    "print(f\"True Positives (Correctly predicted fatigue): {tp}\")\n",
    "\n",
    "# Calculate additional metrics\n",
    "specificity = tn / (tn + fp)\n",
    "sensitivity = tp / (tp + fn)\n",
    "ppv = tp / (tp + fp)\n",
    "npv = tn / (tn + fn)\n",
    "\n",
    "print(\"\\nKey Metrics:\")\n",
    "print(f\"Specificity (True Negative Rate): {specificity:.3f}\")\n",
    "print(f\"Sensitivity (True Positive Rate): {sensitivity:.3f}\")\n",
    "print(f\"Positive Predictive Value: {ppv:.3f}\")\n",
    "print(f\"Negative Predictive Value: {npv:.3f}\")"
   ]
  },
  {
   "cell_type": "markdown",
   "id": "31e63772",
   "metadata": {},
   "source": [
    "## Interrogate Confusion Matrix"
   ]
  },
  {
   "cell_type": "code",
   "execution_count": 38,
   "id": "a18d7bc3",
   "metadata": {},
   "outputs": [
    {
     "name": "stdout",
     "output_type": "stream",
     "text": [
      "Dataset sizes:\n",
      "True Positives: 14\n",
      "True Negatives: 21\n",
      "False Positives: 7\n",
      "False Negatives: 19\n"
     ]
    }
   ],
   "source": [
    "# Create masks for each category based on actual and predicted values\n",
    "# Need to flatten y_pred since it might have an extra dimension\n",
    "y_pred_flat = y_pred.flatten()\n",
    "true_positive_mask = (y_scotland == 1) & (y_pred_flat == 1)\n",
    "true_negative_mask = (y_scotland == 0) & (y_pred_flat == 0)\n",
    "false_positive_mask = (y_scotland == 0) & (y_pred_flat == 1)\n",
    "false_negative_mask = (y_scotland == 1) & (y_pred_flat == 0)\n",
    "\n",
    "# Create separate dataframes\n",
    "tp_df = X_scotland[true_positive_mask].copy()\n",
    "tn_df = X_scotland[true_negative_mask].copy()\n",
    "fp_df = X_scotland[false_positive_mask].copy()\n",
    "fn_df = X_scotland[false_negative_mask].copy()\n",
    "\n",
    "# Verify the numbers match the confusion matrix\n",
    "print(\"Dataset sizes:\")\n",
    "print(f\"True Positives: {len(tp_df)}\")\n",
    "print(f\"True Negatives: {len(tn_df)}\")\n",
    "print(f\"False Positives: {len(fp_df)}\")\n",
    "print(f\"False Negatives: {len(fn_df)}\")"
   ]
  },
  {
   "cell_type": "code",
   "execution_count": 39,
   "id": "ae8c1bfa",
   "metadata": {},
   "outputs": [
    {
     "name": "stderr",
     "output_type": "stream",
     "text": [
      "100%|██████████| 19/19 [00:15<00:00,  1.23it/s]\n"
     ]
    }
   ],
   "source": [
    "shap_values = explainer.shap_values(fn_df)\n",
    "shap_values_class_1 = shap_values[:, :, 0]\n",
    "fn_df[numerical_features] = scaler.inverse_transform(fn_df[numerical_features])"
   ]
  },
  {
   "cell_type": "code",
   "execution_count": 40,
   "id": "e4b24845",
   "metadata": {},
   "outputs": [],
   "source": [
    "# for i in range(len(fn_df)):\n",
    "#     shap.force_plot(\n",
    "#         explainer.expected_value[0],\n",
    "#         shap_values_class_1[i],\n",
    "#         fn_df.iloc[i],\n",
    "#         matplotlib=True,\n",
    "#         contribution_threshold=0.05,\n",
    "#         text_rotation=30,\n",
    "#         show=False,\n",
    "#         plot_cmap=\"PRGn\",\n",
    "#     )\n",
    "#     plt.show()"
   ]
  },
  {
   "cell_type": "markdown",
   "id": "e5026c54",
   "metadata": {},
   "source": [
    "## Compare ML model vs Log Reg Model on this Cohort"
   ]
  },
  {
   "cell_type": "code",
   "execution_count": 41,
   "id": "a2bd7ccd",
   "metadata": {},
   "outputs": [
    {
     "name": "stdout",
     "output_type": "stream",
     "text": [
      "\n",
      "--- True Positive Comparison ---\n",
      "Total TP (DNN): 14\n",
      "Total TP (LogReg): 13\n",
      "TP identified by BOTH models: 11\n",
      "TP identified by DNN ONLY: 3\n",
      "TP identified by LogReg ONLY: 2\n",
      "\n",
      "--- True Negative Comparison ---\n",
      "Total TN (DNN): 21\n",
      "Total TN (LogReg): 22\n",
      "TN identified by BOTH models: 20\n",
      "TN identified by DNN ONLY: 1\n",
      "TN identified by LogReg ONLY: 2\n",
      "\n",
      "--- False Positive Comparison ---\n",
      "Total FP (DNN): 7\n",
      "Total FP (LogReg): 6\n",
      "FP identified by BOTH models: 5\n",
      "FP identified by DNN ONLY: 2\n",
      "FP identified by LogReg ONLY: 1\n",
      "\n",
      "--- False Negative Comparison ---\n",
      "Total FN (DNN): 19\n",
      "Total FN (LogReg): 20\n",
      "FN identified by BOTH models: 17\n",
      "FN identified by DNN ONLY: 2\n",
      "FN identified by LogReg ONLY: 3\n"
     ]
    }
   ],
   "source": [
    "if not logreg_loaded:\n",
    "    print(\n",
    "        \"Logistic regression model was not loaded. Cannot compare misclassifications.\"\n",
    "    )\n",
    "else:\n",
    "    # --- Get Binary Predictions ---\n",
    "    # Keras DNN predictions (already calculated as y_pred)\n",
    "    y_pred_dnn = y_pred.flatten()  # Ensure it's a 1D array\n",
    "\n",
    "    # Logistic Regression predictions\n",
    "    y_pred_logreg = (y_pred_proba_logreg >= 0.5).astype(int)\n",
    "\n",
    "    # --- Identify Classifications for Each Model ---\n",
    "    # Using the index of the X_scotland DataFrame to identify participants\n",
    "    participant_indices = X_scotland.index\n",
    "\n",
    "    # Keras DNN\n",
    "    tp_dnn_indices = participant_indices[(y_scotland == 1) & (y_pred_dnn == 1)]\n",
    "    tn_dnn_indices = participant_indices[(y_scotland == 0) & (y_pred_dnn == 0)]\n",
    "    fp_dnn_indices = participant_indices[(y_scotland == 0) & (y_pred_dnn == 1)]\n",
    "    fn_dnn_indices = participant_indices[(y_scotland == 1) & (y_pred_dnn == 0)]\n",
    "\n",
    "    # Logistic Regression\n",
    "    tp_logreg_indices = participant_indices[(y_scotland == 1) & (y_pred_logreg == 1)]\n",
    "    tn_logreg_indices = participant_indices[(y_scotland == 0) & (y_pred_logreg == 0)]\n",
    "    fp_logreg_indices = participant_indices[(y_scotland == 0) & (y_pred_logreg == 1)]\n",
    "    fn_logreg_indices = participant_indices[(y_scotland == 1) & (y_pred_logreg == 0)]\n",
    "\n",
    "    # --- Compare True Positives ---\n",
    "    tp_both = tp_dnn_indices.intersection(tp_logreg_indices)\n",
    "    tp_dnn_only = tp_dnn_indices.difference(tp_logreg_indices)\n",
    "    tp_logreg_only = tp_logreg_indices.difference(tp_dnn_indices)\n",
    "\n",
    "    print(\"\\n--- True Positive Comparison ---\")\n",
    "    print(f\"Total TP (DNN): {len(tp_dnn_indices)}\")\n",
    "    print(f\"Total TP (LogReg): {len(tp_logreg_indices)}\")\n",
    "    print(f\"TP identified by BOTH models: {len(tp_both)}\")\n",
    "    print(f\"TP identified by DNN ONLY: {len(tp_dnn_only)}\")\n",
    "    print(f\"TP identified by LogReg ONLY: {len(tp_logreg_only)}\")\n",
    "\n",
    "    # --- Compare True Negatives ---\n",
    "    tn_both = tn_dnn_indices.intersection(tn_logreg_indices)\n",
    "    tn_dnn_only = tn_dnn_indices.difference(tn_logreg_indices)\n",
    "    tn_logreg_only = tn_logreg_indices.difference(tn_dnn_indices)\n",
    "\n",
    "    print(\"\\n--- True Negative Comparison ---\")\n",
    "    print(f\"Total TN (DNN): {len(tn_dnn_indices)}\")\n",
    "    print(f\"Total TN (LogReg): {len(tn_logreg_indices)}\")\n",
    "    print(f\"TN identified by BOTH models: {len(tn_both)}\")\n",
    "    print(f\"TN identified by DNN ONLY: {len(tn_dnn_only)}\")\n",
    "    print(f\"TN identified by LogReg ONLY: {len(tn_logreg_only)}\")\n",
    "\n",
    "    # --- Compare False Positives ---\n",
    "    fp_both = fp_dnn_indices.intersection(fp_logreg_indices)\n",
    "    fp_dnn_only = fp_dnn_indices.difference(fp_logreg_indices)\n",
    "    fp_logreg_only = fp_logreg_indices.difference(fp_dnn_indices)\n",
    "\n",
    "    print(\"\\n--- False Positive Comparison ---\")\n",
    "    print(f\"Total FP (DNN): {len(fp_dnn_indices)}\")\n",
    "    print(f\"Total FP (LogReg): {len(fp_logreg_indices)}\")\n",
    "    print(f\"FP identified by BOTH models: {len(fp_both)}\")\n",
    "    print(f\"FP identified by DNN ONLY: {len(fp_dnn_only)}\")\n",
    "    print(f\"FP identified by LogReg ONLY: {len(fp_logreg_only)}\")\n",
    "    # Optional: print the actual indices if needed\n",
    "    # print(f\"FP Both Indices: {fp_both.tolist()}\")\n",
    "    # print(f\"FP DNN Only Indices: {fp_dnn_only.tolist()}\")\n",
    "    # print(f\"FP LogReg Only Indices: {fp_logreg_only.tolist()}\")\n",
    "\n",
    "    # --- Compare False Negatives ---\n",
    "    fn_both = fn_dnn_indices.intersection(fn_logreg_indices)\n",
    "    fn_dnn_only = fn_dnn_indices.difference(fn_logreg_indices)\n",
    "    fn_logreg_only = fn_logreg_indices.difference(fn_dnn_indices)\n",
    "\n",
    "    print(\"\\n--- False Negative Comparison ---\")\n",
    "    print(f\"Total FN (DNN): {len(fn_dnn_indices)}\")\n",
    "    print(f\"Total FN (LogReg): {len(fn_logreg_indices)}\")\n",
    "    print(f\"FN identified by BOTH models: {len(fn_both)}\")\n",
    "    print(f\"FN identified by DNN ONLY: {len(fn_dnn_only)}\")\n",
    "    print(f\"FN identified by LogReg ONLY: {len(fn_logreg_only)}\")\n",
    "    # Optional: print the actual indices if needed\n",
    "    # print(f\"FN Both Indices: {fn_both.tolist()}\")\n",
    "    # print(f\"FN DNN Only Indices: {fn_dnn_only.tolist()}\")\n",
    "    # print(f\"FN LogReg Only Indices: {fn_logreg_only.tolist()}\")"
   ]
  },
  {
   "cell_type": "code",
   "execution_count": 42,
   "id": "49f575b9",
   "metadata": {},
   "outputs": [
    {
     "name": "stdout",
     "output_type": "stream",
     "text": [
      "Saved preprocessed Scotland validation data to output/validation/scotland\n"
     ]
    }
   ],
   "source": [
    "# Add this at the end of the notebook\n",
    "output_dir = Path(\"output/validation/scotland\")\n",
    "output_dir.mkdir(parents=True, exist_ok=True)\n",
    "\n",
    "# Save X and y data\n",
    "X_scotland.to_csv(output_dir / \"X_scotland.csv\", index=False)\n",
    "pd.Series(y_scotland).to_csv(output_dir / \"y_scotland.csv\", index=False)\n",
    "print(f\"Saved preprocessed Scotland validation data to {output_dir}\")"
   ]
  }
 ],
 "metadata": {
  "kernelspec": {
   "display_name": "venv",
   "language": "python",
   "name": "python3"
  },
  "language_info": {
   "codemirror_mode": {
    "name": "ipython",
    "version": 3
   },
   "file_extension": ".py",
   "mimetype": "text/x-python",
   "name": "python",
   "nbconvert_exporter": "python",
   "pygments_lexer": "ipython3",
   "version": "3.11.9"
  }
 },
 "nbformat": 4,
 "nbformat_minor": 5
}
