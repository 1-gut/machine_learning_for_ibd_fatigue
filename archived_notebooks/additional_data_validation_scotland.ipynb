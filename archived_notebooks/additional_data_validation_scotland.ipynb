{
 "cells": [
  {
   "cell_type": "code",
   "execution_count": 1,
   "id": "0e45aeb6",
   "metadata": {},
   "outputs": [],
   "source": [
    "import pandas as pd\n",
    "\n",
    "df_music = pd.read_csv(\"raw_data/music_main_2025-04-30.csv\")\n",
    "df_gidamps = pd.read_csv(\"raw_data/gidamps_sampling_2025-04-30.csv\")\n",
    "df_music_demographics = pd.read_csv(\"raw_data/music_demographics_2025-04-30.csv\")"
   ]
  },
  {
   "cell_type": "code",
   "execution_count": 2,
   "id": "3ea5a2b2",
   "metadata": {},
   "outputs": [
    {
     "name": "stdout",
     "output_type": "stream",
     "text": [
      "Number of GIDAMPs rows with non-NA cucq_5 after Jan 1st 2025: 1\n",
      "\n",
      "First few rows of filtered data:\n",
      "     sampling_date  cucq_5\n",
      "1091    2025-02-03    14.0\n",
      "Number of MUSIC rows after Jan 1st 2025: 38\n"
     ]
    }
   ],
   "source": [
    "df_music['cucq_date']# Convert cucq_date to datetime format first\n",
    "df_music['cucq_date'] = pd.to_datetime(df_music['cucq_date']) \n",
    "\n",
    "# Filter for dates after Jan 1st 2025\n",
    "cutoff_date = pd.to_datetime('2025-01-01')\n",
    "\n",
    "music_future_dates = df_music[df_music['cucq_date'] > cutoff_date].shape[0]\n",
    "\n",
    "# Convert sampling_date to datetime if not already done\n",
    "df_gidamps['sampling_date'] = pd.to_datetime(df_gidamps['sampling_date'])\n",
    "\n",
    "# Filter for non-NA cucq_5 and dates after cutoff\n",
    "cutoff_date = pd.to_datetime('2025-01-01')\n",
    "filtered_gidamps = df_gidamps[\n",
    "    (df_gidamps['cucq_5'].notna()) & \n",
    "    (df_gidamps['sampling_date'] > cutoff_date)\n",
    "]\n",
    "\n",
    "print(f\"Number of GIDAMPs rows with non-NA cucq_5 after Jan 1st 2025: {len(filtered_gidamps)}\")\n",
    "\n",
    "# Optional: Display first few rows to verify\n",
    "print(\"\\nFirst few rows of filtered data:\")\n",
    "print(filtered_gidamps[['sampling_date', 'cucq_5']].head())\n",
    "\n",
    "print(f\"Number of MUSIC rows after Jan 1st 2025: {music_future_dates}\")"
   ]
  },
  {
   "cell_type": "code",
   "execution_count": 3,
   "id": "03e7364a",
   "metadata": {},
   "outputs": [],
   "source": [
    "df_music_existing = pd.read_csv(\"raw_data/gidamps_music_combined_fatigue_df_111224_with_cmh.csv\")\n",
    "\n",
    "# remove mid prefix from df_music['study_id']\n",
    "df_music['study_id'] = df_music['study_id'].str.replace('MID-', '', regex=False)"
   ]
  },
  {
   "cell_type": "code",
   "execution_count": 4,
   "id": "df435f30",
   "metadata": {},
   "outputs": [
    {
     "name": "stdout",
     "output_type": "stream",
     "text": [
      "Number of unique study_ids in music_future_dates not in df_music_existing: 9\n",
      "Missing study_ids: {'90-121', '92-26', '91-54', '92-34', '92-33', '92-35', '92-28', '91-52', '191-2'}\n"
     ]
    }
   ],
   "source": [
    "music_future_dates = df_music[df_music['cucq_date'] > cutoff_date]\n",
    "\n",
    "# check music_future_dates for study_ids in df_music_existing\n",
    "existing_study_ids = df_music_existing['study_id'].unique()\n",
    "music_future_study_ids = music_future_dates['study_id'].unique()\n",
    "# Find study_ids in music_future_dates that are not in df_music_existing\n",
    "missing_study_ids = set(music_future_study_ids) - set(existing_study_ids)\n",
    "print(f\"Number of unique study_ids in music_future_dates not in df_music_existing: {len(missing_study_ids)}\")\n",
    "print(f\"Missing study_ids: {missing_study_ids}\")"
   ]
  },
  {
   "cell_type": "code",
   "execution_count": 5,
   "id": "61a99b42",
   "metadata": {},
   "outputs": [],
   "source": [
    "# subset music_futures_dates to only include the missing study_ids\n",
    "\n",
    "music_future_dates_missing = music_future_dates[\n",
    "    music_future_dates['study_id'].isin(missing_study_ids)\n",
    "]"
   ]
  },
  {
   "cell_type": "markdown",
   "id": "1e0fcf04",
   "metadata": {},
   "source": [
    "We could potentially add 10 more datapoints in from GI-DAMPs and MUSIC recruited after 2025-01-01."
   ]
  },
  {
   "cell_type": "code",
   "execution_count": 6,
   "id": "a9b90355",
   "metadata": {},
   "outputs": [],
   "source": [
    "# Extract cols from filtered_gidamps and music_future_dates_missing\n",
    "\n",
    "cols_to_extract = [\n",
    "    \"cucq_5\",\n",
    "    \"age\",\n",
    "    \"sex\", \n",
    "    \"height\",\n",
    "    \"weight\",\n",
    "    \"smoking_status\",\n",
    "    \"study_group\",\n",
    "    \"date_of_diagnosis\",\n",
    "    \"montreal_cd_location\",\n",
    "    \"montreal_cd_behaviour\",\n",
    "    \"montreal_upper_gi\",\n",
    "    \"montreal_perianal\",\n",
    "    \"montreal_uc_extent\",\n",
    "    \"montreal_uc_severity\",\n",
    "    \"has_active_symptoms\",\n",
    "    \"haemoglobin\",\n",
    "    \"red_cell_count\",\n",
    "    \"white_cell_count\",\n",
    "    \"neutrophils\",\n",
    "    \"lymphocytes\",\n",
    "    \"monocytes\",\n",
    "    \"eosinophils\",\n",
    "    \"basophils\",\n",
    "    \"platelets\",\n",
    "    \"urea\",\n",
    "    \"creatinine\",\n",
    "    \"sodium\",\n",
    "    \"potassium\",\n",
    "    \"crp\",\n",
    "    \"albumin\",\n",
    "    \"calprotectin\",\n",
    "    \"sampling_steroids\",\n",
    "    \"sampling_abx\",\n",
    "    \"sampling_asa\",\n",
    "    \"sampling_aza\",\n",
    "    \"sampling_mp\",\n",
    "    \"sampling_ifx\",\n",
    "    \"sampling_ada\",\n",
    "    \"sampling_vedo\",\n",
    "    \"sampling_uste\",\n",
    "    \"sampling_tofa\",\n",
    "    \"sampling_mtx\",\n",
    "    \"sampling_ciclosporin\",\n",
    "    \"sampling_filgo\",\n",
    "    \"sampling_upa\",\n",
    "    \"sampling_risa\"\n",
    "]"
   ]
  },
  {
   "cell_type": "code",
   "execution_count": 7,
   "id": "664ea39b",
   "metadata": {},
   "outputs": [
    {
     "name": "stdout",
     "output_type": "stream",
     "text": [
      "All columns are present in filtered_gidamps.\n"
     ]
    }
   ],
   "source": [
    "# Check that filtered_gidamps has all the columns\n",
    "missing_cols = [col for col in cols_to_extract if col not in filtered_gidamps.columns]\n",
    "if missing_cols:\n",
    "    print(f\"Missing columns in filtered_gidamps: {missing_cols}\")\n",
    "else:\n",
    "    print(\"All columns are present in filtered_gidamps.\")"
   ]
  },
  {
   "cell_type": "code",
   "execution_count": 8,
   "id": "e7849ad4",
   "metadata": {},
   "outputs": [
    {
     "name": "stdout",
     "output_type": "stream",
     "text": [
      "All columns are present in music_future_dates_missing.\n"
     ]
    }
   ],
   "source": [
    "# Check that music_future_dates_missing has all the columns\n",
    "missing_cols = [col for col in cols_to_extract if col not in music_future_dates_missing.columns]\n",
    "if missing_cols:\n",
    "    print(f\"Missing columns in music_future_dates_missing: {missing_cols}\")\n",
    "else:\n",
    "    print(\"All columns are present in music_future_dates_missing.\")"
   ]
  },
  {
   "cell_type": "markdown",
   "id": "af90d9dd",
   "metadata": {},
   "source": [
    "90-121 and 191-2 to recollect data"
   ]
  },
  {
   "cell_type": "code",
   "execution_count": null,
   "id": "d16c2dfc",
   "metadata": {},
   "outputs": [],
   "source": []
  },
  {
   "cell_type": "code",
   "execution_count": 9,
   "id": "7b026796",
   "metadata": {},
   "outputs": [
    {
     "name": "stdout",
     "output_type": "stream",
     "text": [
      "Number of missing values after backfill:\n",
      "age: 0\n",
      "sex: 0\n",
      "study_group: 0\n",
      "date_of_diagnosis: 0\n",
      "\n",
      "Sample of updated records:\n"
     ]
    },
    {
     "data": {
      "application/vnd.microsoft.datawrangler.viewer.v0+json": {
       "columns": [
        {
         "name": "index",
         "rawType": "int64",
         "type": "integer"
        },
        {
         "name": "study_id",
         "rawType": "object",
         "type": "string"
        },
        {
         "name": "age",
         "rawType": "float64",
         "type": "float"
        },
        {
         "name": "sex",
         "rawType": "object",
         "type": "string"
        },
        {
         "name": "study_group",
         "rawType": "object",
         "type": "string"
        },
        {
         "name": "date_of_diagnosis",
         "rawType": "object",
         "type": "string"
        }
       ],
       "conversionMethod": "pd.DataFrame",
       "ref": "0f619760-6cf9-45ca-8237-4740d3369a9a",
       "rows": [
        [
         "539",
         "90-121",
         "33.0",
         "male",
         "cd",
         "2018-06-01"
        ],
        [
         "796",
         "91-52",
         "23.0",
         "female",
         "cd",
         "2024-02-07"
        ],
        [
         "806",
         "91-54",
         "60.0",
         "female",
         "cd",
         "1990-01-01"
        ],
        [
         "925",
         "92-26",
         "18.0",
         "female",
         "uc",
         "2024-01-15"
        ],
        [
         "933",
         "92-28",
         "22.0",
         "male",
         "uc",
         "2024-06-01"
        ]
       ],
       "shape": {
        "columns": 5,
        "rows": 5
       }
      },
      "text/html": [
       "<div>\n",
       "<style scoped>\n",
       "    .dataframe tbody tr th:only-of-type {\n",
       "        vertical-align: middle;\n",
       "    }\n",
       "\n",
       "    .dataframe tbody tr th {\n",
       "        vertical-align: top;\n",
       "    }\n",
       "\n",
       "    .dataframe thead th {\n",
       "        text-align: right;\n",
       "    }\n",
       "</style>\n",
       "<table border=\"1\" class=\"dataframe\">\n",
       "  <thead>\n",
       "    <tr style=\"text-align: right;\">\n",
       "      <th></th>\n",
       "      <th>study_id</th>\n",
       "      <th>age</th>\n",
       "      <th>sex</th>\n",
       "      <th>study_group</th>\n",
       "      <th>date_of_diagnosis</th>\n",
       "    </tr>\n",
       "  </thead>\n",
       "  <tbody>\n",
       "    <tr>\n",
       "      <th>539</th>\n",
       "      <td>90-121</td>\n",
       "      <td>33.0</td>\n",
       "      <td>male</td>\n",
       "      <td>cd</td>\n",
       "      <td>2018-06-01</td>\n",
       "    </tr>\n",
       "    <tr>\n",
       "      <th>796</th>\n",
       "      <td>91-52</td>\n",
       "      <td>23.0</td>\n",
       "      <td>female</td>\n",
       "      <td>cd</td>\n",
       "      <td>2024-02-07</td>\n",
       "    </tr>\n",
       "    <tr>\n",
       "      <th>806</th>\n",
       "      <td>91-54</td>\n",
       "      <td>60.0</td>\n",
       "      <td>female</td>\n",
       "      <td>cd</td>\n",
       "      <td>1990-01-01</td>\n",
       "    </tr>\n",
       "    <tr>\n",
       "      <th>925</th>\n",
       "      <td>92-26</td>\n",
       "      <td>18.0</td>\n",
       "      <td>female</td>\n",
       "      <td>uc</td>\n",
       "      <td>2024-01-15</td>\n",
       "    </tr>\n",
       "    <tr>\n",
       "      <th>933</th>\n",
       "      <td>92-28</td>\n",
       "      <td>22.0</td>\n",
       "      <td>male</td>\n",
       "      <td>uc</td>\n",
       "      <td>2024-06-01</td>\n",
       "    </tr>\n",
       "  </tbody>\n",
       "</table>\n",
       "</div>"
      ],
      "text/plain": [
       "    study_id   age     sex study_group date_of_diagnosis\n",
       "539   90-121  33.0    male          cd        2018-06-01\n",
       "796    91-52  23.0  female          cd        2024-02-07\n",
       "806    91-54  60.0  female          cd        1990-01-01\n",
       "925    92-26  18.0  female          uc        2024-01-15\n",
       "933    92-28  22.0    male          uc        2024-06-01"
      ]
     },
     "execution_count": 9,
     "metadata": {},
     "output_type": "execute_result"
    }
   ],
   "source": [
    "backfill_df = df_music_demographics[['study_id','age', 'sex', 'study_group', 'date_of_diagnosis']].copy()\n",
    "\n",
    "# Remove 'MID-' prefix from study_id in backfill_df\n",
    "backfill_df['study_id'] = backfill_df['study_id'].str.replace('MID-', '', regex=False)\n",
    "\n",
    "music_cols = ['study_id'] + cols_to_extract\n",
    "music_output_df = music_future_dates_missing[music_cols].copy()\n",
    "\n",
    "# Fill missing values in music_output_df from backfill_df\n",
    "columns_to_backfill = ['age', 'sex', 'study_group', 'date_of_diagnosis']\n",
    "for column in columns_to_backfill:\n",
    "    # Create a mapping dictionary from backfill_df\n",
    "    backfill_map = backfill_df.set_index('study_id')[column].to_dict()\n",
    "    \n",
    "    # Only fill values that are missing (NaN)\n",
    "    mask = music_output_df[column].isna()\n",
    "    music_output_df.loc[mask, column] = music_output_df.loc[mask, 'study_id'].map(backfill_map)\n",
    "\n",
    "# Check if we successfully filled in the missing values\n",
    "print(\"Number of missing values after backfill:\")\n",
    "for column in columns_to_backfill:\n",
    "    missing_count = music_output_df[column].isna().sum()\n",
    "    print(f\"{column}: {missing_count}\")\n",
    "\n",
    "# Display sample of updated records\n",
    "print(\"\\nSample of updated records:\")\n",
    "music_output_df[['study_id'] + columns_to_backfill].head()"
   ]
  },
  {
   "cell_type": "markdown",
   "id": "5b918982",
   "metadata": {},
   "source": [
    "## Output DF"
   ]
  },
  {
   "cell_type": "code",
   "execution_count": 10,
   "id": "e54eabf4",
   "metadata": {},
   "outputs": [],
   "source": [
    "gidamps_cols = ['sampling_setting', 'study_id'] + cols_to_extract\n",
    "gidamps_output_df = filtered_gidamps[gidamps_cols].copy() # single participant from endoscopy"
   ]
  },
  {
   "cell_type": "code",
   "execution_count": 11,
   "id": "464a41ec",
   "metadata": {},
   "outputs": [
    {
     "data": {
      "application/vnd.microsoft.datawrangler.viewer.v0+json": {
       "columns": [
        {
         "name": "index",
         "rawType": "int64",
         "type": "integer"
        },
        {
         "name": "sampling_setting",
         "rawType": "object",
         "type": "string"
        },
        {
         "name": "study_id",
         "rawType": "object",
         "type": "string"
        },
        {
         "name": "cucq_5",
         "rawType": "float64",
         "type": "float"
        },
        {
         "name": "age",
         "rawType": "int64",
         "type": "integer"
        },
        {
         "name": "sex",
         "rawType": "object",
         "type": "string"
        },
        {
         "name": "height",
         "rawType": "float64",
         "type": "float"
        },
        {
         "name": "weight",
         "rawType": "float64",
         "type": "float"
        },
        {
         "name": "smoking_status",
         "rawType": "object",
         "type": "string"
        },
        {
         "name": "study_group",
         "rawType": "object",
         "type": "string"
        },
        {
         "name": "date_of_diagnosis",
         "rawType": "object",
         "type": "string"
        },
        {
         "name": "montreal_cd_location",
         "rawType": "object",
         "type": "unknown"
        },
        {
         "name": "montreal_cd_behaviour",
         "rawType": "object",
         "type": "unknown"
        },
        {
         "name": "montreal_upper_gi",
         "rawType": "float64",
         "type": "float"
        },
        {
         "name": "montreal_perianal",
         "rawType": "float64",
         "type": "float"
        },
        {
         "name": "montreal_uc_extent",
         "rawType": "object",
         "type": "string"
        },
        {
         "name": "montreal_uc_severity",
         "rawType": "object",
         "type": "string"
        },
        {
         "name": "has_active_symptoms",
         "rawType": "float64",
         "type": "float"
        },
        {
         "name": "haemoglobin",
         "rawType": "float64",
         "type": "float"
        },
        {
         "name": "red_cell_count",
         "rawType": "float64",
         "type": "float"
        },
        {
         "name": "white_cell_count",
         "rawType": "float64",
         "type": "float"
        },
        {
         "name": "neutrophils",
         "rawType": "float64",
         "type": "float"
        },
        {
         "name": "lymphocytes",
         "rawType": "float64",
         "type": "float"
        },
        {
         "name": "monocytes",
         "rawType": "float64",
         "type": "float"
        },
        {
         "name": "eosinophils",
         "rawType": "float64",
         "type": "float"
        },
        {
         "name": "basophils",
         "rawType": "float64",
         "type": "float"
        },
        {
         "name": "platelets",
         "rawType": "float64",
         "type": "float"
        },
        {
         "name": "urea",
         "rawType": "float64",
         "type": "float"
        },
        {
         "name": "creatinine",
         "rawType": "float64",
         "type": "float"
        },
        {
         "name": "sodium",
         "rawType": "float64",
         "type": "float"
        },
        {
         "name": "potassium",
         "rawType": "float64",
         "type": "float"
        },
        {
         "name": "crp",
         "rawType": "float64",
         "type": "float"
        },
        {
         "name": "albumin",
         "rawType": "float64",
         "type": "float"
        },
        {
         "name": "calprotectin",
         "rawType": "float64",
         "type": "float"
        },
        {
         "name": "sampling_steroids",
         "rawType": "float64",
         "type": "float"
        },
        {
         "name": "sampling_abx",
         "rawType": "float64",
         "type": "float"
        },
        {
         "name": "sampling_asa",
         "rawType": "float64",
         "type": "float"
        },
        {
         "name": "sampling_aza",
         "rawType": "float64",
         "type": "float"
        },
        {
         "name": "sampling_mp",
         "rawType": "float64",
         "type": "float"
        },
        {
         "name": "sampling_ifx",
         "rawType": "float64",
         "type": "float"
        },
        {
         "name": "sampling_ada",
         "rawType": "float64",
         "type": "float"
        },
        {
         "name": "sampling_vedo",
         "rawType": "float64",
         "type": "float"
        },
        {
         "name": "sampling_uste",
         "rawType": "float64",
         "type": "float"
        },
        {
         "name": "sampling_tofa",
         "rawType": "float64",
         "type": "float"
        },
        {
         "name": "sampling_mtx",
         "rawType": "float64",
         "type": "float"
        },
        {
         "name": "sampling_ciclosporin",
         "rawType": "float64",
         "type": "float"
        },
        {
         "name": "sampling_filgo",
         "rawType": "float64",
         "type": "float"
        },
        {
         "name": "sampling_upa",
         "rawType": "float64",
         "type": "float"
        },
        {
         "name": "sampling_risa",
         "rawType": "float64",
         "type": "float"
        }
       ],
       "conversionMethod": "pd.DataFrame",
       "ref": "4f3f844e-3cd0-458b-b72f-2a6f27be1830",
       "rows": [
        [
         "1091",
         "endoscopy",
         "GID-763",
         "14.0",
         "41",
         "male",
         "183.0",
         "79.4",
         "non_smoker",
         "uc",
         "2017-06-01",
         null,
         null,
         null,
         null,
         "E2",
         "S2",
         "0.0",
         "151.0",
         "4.9",
         "4.9",
         "1.7",
         "2.52",
         "0.41",
         "0.24",
         "0.04",
         "203.0",
         "4.2",
         "73.0",
         "140.0",
         "4.1",
         "1.0",
         "43.0",
         null,
         "0.0",
         "0.0",
         "1.0",
         null,
         null,
         null,
         null,
         null,
         null,
         null,
         null,
         null,
         null,
         null,
         null
        ]
       ],
       "shape": {
        "columns": 48,
        "rows": 1
       }
      },
      "text/html": [
       "<div>\n",
       "<style scoped>\n",
       "    .dataframe tbody tr th:only-of-type {\n",
       "        vertical-align: middle;\n",
       "    }\n",
       "\n",
       "    .dataframe tbody tr th {\n",
       "        vertical-align: top;\n",
       "    }\n",
       "\n",
       "    .dataframe thead th {\n",
       "        text-align: right;\n",
       "    }\n",
       "</style>\n",
       "<table border=\"1\" class=\"dataframe\">\n",
       "  <thead>\n",
       "    <tr style=\"text-align: right;\">\n",
       "      <th></th>\n",
       "      <th>sampling_setting</th>\n",
       "      <th>study_id</th>\n",
       "      <th>cucq_5</th>\n",
       "      <th>age</th>\n",
       "      <th>sex</th>\n",
       "      <th>height</th>\n",
       "      <th>weight</th>\n",
       "      <th>smoking_status</th>\n",
       "      <th>study_group</th>\n",
       "      <th>date_of_diagnosis</th>\n",
       "      <th>...</th>\n",
       "      <th>sampling_ifx</th>\n",
       "      <th>sampling_ada</th>\n",
       "      <th>sampling_vedo</th>\n",
       "      <th>sampling_uste</th>\n",
       "      <th>sampling_tofa</th>\n",
       "      <th>sampling_mtx</th>\n",
       "      <th>sampling_ciclosporin</th>\n",
       "      <th>sampling_filgo</th>\n",
       "      <th>sampling_upa</th>\n",
       "      <th>sampling_risa</th>\n",
       "    </tr>\n",
       "  </thead>\n",
       "  <tbody>\n",
       "    <tr>\n",
       "      <th>1091</th>\n",
       "      <td>endoscopy</td>\n",
       "      <td>GID-763</td>\n",
       "      <td>14.0</td>\n",
       "      <td>41</td>\n",
       "      <td>male</td>\n",
       "      <td>183.0</td>\n",
       "      <td>79.4</td>\n",
       "      <td>non_smoker</td>\n",
       "      <td>uc</td>\n",
       "      <td>2017-06-01</td>\n",
       "      <td>...</td>\n",
       "      <td>NaN</td>\n",
       "      <td>NaN</td>\n",
       "      <td>NaN</td>\n",
       "      <td>NaN</td>\n",
       "      <td>NaN</td>\n",
       "      <td>NaN</td>\n",
       "      <td>NaN</td>\n",
       "      <td>NaN</td>\n",
       "      <td>NaN</td>\n",
       "      <td>NaN</td>\n",
       "    </tr>\n",
       "  </tbody>\n",
       "</table>\n",
       "<p>1 rows × 48 columns</p>\n",
       "</div>"
      ],
      "text/plain": [
       "     sampling_setting study_id  cucq_5  age   sex  height  weight  \\\n",
       "1091        endoscopy  GID-763    14.0   41  male   183.0    79.4   \n",
       "\n",
       "     smoking_status study_group date_of_diagnosis  ... sampling_ifx  \\\n",
       "1091     non_smoker          uc        2017-06-01  ...          NaN   \n",
       "\n",
       "     sampling_ada  sampling_vedo  sampling_uste sampling_tofa sampling_mtx  \\\n",
       "1091          NaN            NaN            NaN           NaN          NaN   \n",
       "\n",
       "      sampling_ciclosporin  sampling_filgo  sampling_upa  sampling_risa  \n",
       "1091                   NaN             NaN           NaN            NaN  \n",
       "\n",
       "[1 rows x 48 columns]"
      ]
     },
     "execution_count": 11,
     "metadata": {},
     "output_type": "execute_result"
    }
   ],
   "source": [
    "gidamps_output_df.head()"
   ]
  },
  {
   "cell_type": "code",
   "execution_count": 12,
   "id": "b87c806c",
   "metadata": {},
   "outputs": [
    {
     "data": {
      "application/vnd.microsoft.datawrangler.viewer.v0+json": {
       "columns": [
        {
         "name": "index",
         "rawType": "int64",
         "type": "integer"
        },
        {
         "name": "study_id",
         "rawType": "object",
         "type": "string"
        },
        {
         "name": "cucq_5",
         "rawType": "float64",
         "type": "float"
        },
        {
         "name": "age",
         "rawType": "float64",
         "type": "float"
        },
        {
         "name": "sex",
         "rawType": "object",
         "type": "string"
        },
        {
         "name": "height",
         "rawType": "float64",
         "type": "float"
        },
        {
         "name": "weight",
         "rawType": "float64",
         "type": "float"
        },
        {
         "name": "smoking_status",
         "rawType": "object",
         "type": "string"
        },
        {
         "name": "study_group",
         "rawType": "object",
         "type": "string"
        },
        {
         "name": "date_of_diagnosis",
         "rawType": "object",
         "type": "string"
        },
        {
         "name": "montreal_cd_location",
         "rawType": "object",
         "type": "unknown"
        },
        {
         "name": "montreal_cd_behaviour",
         "rawType": "object",
         "type": "unknown"
        },
        {
         "name": "montreal_upper_gi",
         "rawType": "float64",
         "type": "float"
        },
        {
         "name": "montreal_perianal",
         "rawType": "float64",
         "type": "float"
        },
        {
         "name": "montreal_uc_extent",
         "rawType": "object",
         "type": "unknown"
        },
        {
         "name": "montreal_uc_severity",
         "rawType": "object",
         "type": "unknown"
        },
        {
         "name": "has_active_symptoms",
         "rawType": "float64",
         "type": "float"
        },
        {
         "name": "haemoglobin",
         "rawType": "float64",
         "type": "float"
        },
        {
         "name": "red_cell_count",
         "rawType": "float64",
         "type": "float"
        },
        {
         "name": "white_cell_count",
         "rawType": "float64",
         "type": "float"
        },
        {
         "name": "neutrophils",
         "rawType": "float64",
         "type": "float"
        },
        {
         "name": "lymphocytes",
         "rawType": "float64",
         "type": "float"
        },
        {
         "name": "monocytes",
         "rawType": "float64",
         "type": "float"
        },
        {
         "name": "eosinophils",
         "rawType": "float64",
         "type": "float"
        },
        {
         "name": "basophils",
         "rawType": "float64",
         "type": "float"
        },
        {
         "name": "platelets",
         "rawType": "float64",
         "type": "float"
        },
        {
         "name": "urea",
         "rawType": "float64",
         "type": "float"
        },
        {
         "name": "creatinine",
         "rawType": "float64",
         "type": "float"
        },
        {
         "name": "sodium",
         "rawType": "float64",
         "type": "float"
        },
        {
         "name": "potassium",
         "rawType": "float64",
         "type": "float"
        },
        {
         "name": "crp",
         "rawType": "float64",
         "type": "float"
        },
        {
         "name": "albumin",
         "rawType": "float64",
         "type": "float"
        },
        {
         "name": "calprotectin",
         "rawType": "object",
         "type": "unknown"
        },
        {
         "name": "sampling_steroids",
         "rawType": "float64",
         "type": "float"
        },
        {
         "name": "sampling_abx",
         "rawType": "float64",
         "type": "float"
        },
        {
         "name": "sampling_asa",
         "rawType": "float64",
         "type": "float"
        },
        {
         "name": "sampling_aza",
         "rawType": "float64",
         "type": "float"
        },
        {
         "name": "sampling_mp",
         "rawType": "float64",
         "type": "float"
        },
        {
         "name": "sampling_ifx",
         "rawType": "float64",
         "type": "float"
        },
        {
         "name": "sampling_ada",
         "rawType": "float64",
         "type": "float"
        },
        {
         "name": "sampling_vedo",
         "rawType": "float64",
         "type": "float"
        },
        {
         "name": "sampling_uste",
         "rawType": "float64",
         "type": "float"
        },
        {
         "name": "sampling_tofa",
         "rawType": "float64",
         "type": "float"
        },
        {
         "name": "sampling_mtx",
         "rawType": "float64",
         "type": "float"
        },
        {
         "name": "sampling_ciclosporin",
         "rawType": "float64",
         "type": "float"
        },
        {
         "name": "sampling_filgo",
         "rawType": "float64",
         "type": "float"
        },
        {
         "name": "sampling_upa",
         "rawType": "float64",
         "type": "float"
        },
        {
         "name": "sampling_risa",
         "rawType": "float64",
         "type": "float"
        }
       ],
       "conversionMethod": "pd.DataFrame",
       "ref": "5d702046-d30f-4c01-9a35-1f02ae9d4f2c",
       "rows": [
        [
         "539",
         "90-121",
         "7.0",
         "33.0",
         "male",
         "177.8",
         "78.5",
         "non_smoker",
         "cd",
         "2018-06-01",
         "L2",
         "B1",
         null,
         null,
         null,
         null,
         "1.0",
         null,
         null,
         null,
         null,
         null,
         null,
         null,
         null,
         null,
         null,
         null,
         null,
         null,
         null,
         null,
         null,
         null,
         null,
         null,
         null,
         null,
         null,
         null,
         null,
         null,
         null,
         null,
         null,
         null,
         null,
         null
        ],
        [
         "796",
         "91-52",
         "3.0",
         "23.0",
         "female",
         "165.0",
         "103.6",
         "non_smoker",
         "cd",
         "2024-02-07",
         "L2",
         "B1",
         null,
         null,
         null,
         null,
         "0.0",
         "142.0",
         "4.45",
         "10.5",
         "7.7",
         "1.4",
         "1.0",
         "0.29",
         "0.1",
         "443.0",
         "5.0",
         "65.0",
         "140.0",
         "4.6",
         "11.0",
         "41.0",
         "42",
         null,
         null,
         null,
         null,
         null,
         null,
         null,
         null,
         null,
         null,
         null,
         null,
         null,
         null,
         null
        ],
        [
         "806",
         "91-54",
         "14.0",
         "60.0",
         "female",
         "155.0",
         "49.9",
         "ex_smoker",
         "cd",
         "1990-01-01",
         "L3",
         "B2",
         null,
         null,
         null,
         null,
         "1.0",
         "127.0",
         "4.25",
         "6.8",
         "4.0",
         "2.1",
         "0.5",
         "0.15",
         "0.1",
         "265.0",
         "4.9",
         "72.0",
         "139.0",
         "4.5",
         "1.0",
         "38.0",
         "31",
         null,
         null,
         null,
         null,
         null,
         null,
         null,
         null,
         null,
         null,
         null,
         null,
         null,
         null,
         null
        ],
        [
         "925",
         "92-26",
         "5.0",
         "18.0",
         "female",
         "169.5",
         "58.7",
         "non_smoker",
         "uc",
         "2024-01-15",
         null,
         null,
         null,
         null,
         null,
         null,
         "1.0",
         "126.0",
         "4.28",
         "6.7",
         "2.8",
         "3.0",
         "0.4",
         "0.45",
         "0.0",
         "270.0",
         "3.4",
         "46.0",
         "138.0",
         "4.1",
         "0.5",
         "39.0",
         null,
         null,
         null,
         null,
         null,
         null,
         null,
         null,
         null,
         null,
         null,
         null,
         null,
         null,
         null,
         null
        ],
        [
         "933",
         "92-28",
         "0.0",
         "22.0",
         "male",
         "188.0",
         "82.0",
         "non_smoker",
         "uc",
         "2024-06-01",
         null,
         null,
         null,
         null,
         "E3",
         "S0",
         "0.0",
         "116.0",
         "5.28",
         "6.2",
         "2.7",
         "0.4",
         "0.4",
         "0.13",
         "0.0",
         "311.0",
         "4.8",
         "64.0",
         "139.0",
         "4.3",
         "0.0",
         "40.0",
         null,
         null,
         null,
         null,
         null,
         null,
         null,
         null,
         null,
         null,
         null,
         null,
         null,
         null,
         null,
         null
        ]
       ],
       "shape": {
        "columns": 47,
        "rows": 5
       }
      },
      "text/html": [
       "<div>\n",
       "<style scoped>\n",
       "    .dataframe tbody tr th:only-of-type {\n",
       "        vertical-align: middle;\n",
       "    }\n",
       "\n",
       "    .dataframe tbody tr th {\n",
       "        vertical-align: top;\n",
       "    }\n",
       "\n",
       "    .dataframe thead th {\n",
       "        text-align: right;\n",
       "    }\n",
       "</style>\n",
       "<table border=\"1\" class=\"dataframe\">\n",
       "  <thead>\n",
       "    <tr style=\"text-align: right;\">\n",
       "      <th></th>\n",
       "      <th>study_id</th>\n",
       "      <th>cucq_5</th>\n",
       "      <th>age</th>\n",
       "      <th>sex</th>\n",
       "      <th>height</th>\n",
       "      <th>weight</th>\n",
       "      <th>smoking_status</th>\n",
       "      <th>study_group</th>\n",
       "      <th>date_of_diagnosis</th>\n",
       "      <th>montreal_cd_location</th>\n",
       "      <th>...</th>\n",
       "      <th>sampling_ifx</th>\n",
       "      <th>sampling_ada</th>\n",
       "      <th>sampling_vedo</th>\n",
       "      <th>sampling_uste</th>\n",
       "      <th>sampling_tofa</th>\n",
       "      <th>sampling_mtx</th>\n",
       "      <th>sampling_ciclosporin</th>\n",
       "      <th>sampling_filgo</th>\n",
       "      <th>sampling_upa</th>\n",
       "      <th>sampling_risa</th>\n",
       "    </tr>\n",
       "  </thead>\n",
       "  <tbody>\n",
       "    <tr>\n",
       "      <th>539</th>\n",
       "      <td>90-121</td>\n",
       "      <td>7.0</td>\n",
       "      <td>33.0</td>\n",
       "      <td>male</td>\n",
       "      <td>177.8</td>\n",
       "      <td>78.5</td>\n",
       "      <td>non_smoker</td>\n",
       "      <td>cd</td>\n",
       "      <td>2018-06-01</td>\n",
       "      <td>L2</td>\n",
       "      <td>...</td>\n",
       "      <td>NaN</td>\n",
       "      <td>NaN</td>\n",
       "      <td>NaN</td>\n",
       "      <td>NaN</td>\n",
       "      <td>NaN</td>\n",
       "      <td>NaN</td>\n",
       "      <td>NaN</td>\n",
       "      <td>NaN</td>\n",
       "      <td>NaN</td>\n",
       "      <td>NaN</td>\n",
       "    </tr>\n",
       "    <tr>\n",
       "      <th>796</th>\n",
       "      <td>91-52</td>\n",
       "      <td>3.0</td>\n",
       "      <td>23.0</td>\n",
       "      <td>female</td>\n",
       "      <td>165.0</td>\n",
       "      <td>103.6</td>\n",
       "      <td>non_smoker</td>\n",
       "      <td>cd</td>\n",
       "      <td>2024-02-07</td>\n",
       "      <td>L2</td>\n",
       "      <td>...</td>\n",
       "      <td>NaN</td>\n",
       "      <td>NaN</td>\n",
       "      <td>NaN</td>\n",
       "      <td>NaN</td>\n",
       "      <td>NaN</td>\n",
       "      <td>NaN</td>\n",
       "      <td>NaN</td>\n",
       "      <td>NaN</td>\n",
       "      <td>NaN</td>\n",
       "      <td>NaN</td>\n",
       "    </tr>\n",
       "    <tr>\n",
       "      <th>806</th>\n",
       "      <td>91-54</td>\n",
       "      <td>14.0</td>\n",
       "      <td>60.0</td>\n",
       "      <td>female</td>\n",
       "      <td>155.0</td>\n",
       "      <td>49.9</td>\n",
       "      <td>ex_smoker</td>\n",
       "      <td>cd</td>\n",
       "      <td>1990-01-01</td>\n",
       "      <td>L3</td>\n",
       "      <td>...</td>\n",
       "      <td>NaN</td>\n",
       "      <td>NaN</td>\n",
       "      <td>NaN</td>\n",
       "      <td>NaN</td>\n",
       "      <td>NaN</td>\n",
       "      <td>NaN</td>\n",
       "      <td>NaN</td>\n",
       "      <td>NaN</td>\n",
       "      <td>NaN</td>\n",
       "      <td>NaN</td>\n",
       "    </tr>\n",
       "    <tr>\n",
       "      <th>925</th>\n",
       "      <td>92-26</td>\n",
       "      <td>5.0</td>\n",
       "      <td>18.0</td>\n",
       "      <td>female</td>\n",
       "      <td>169.5</td>\n",
       "      <td>58.7</td>\n",
       "      <td>non_smoker</td>\n",
       "      <td>uc</td>\n",
       "      <td>2024-01-15</td>\n",
       "      <td>NaN</td>\n",
       "      <td>...</td>\n",
       "      <td>NaN</td>\n",
       "      <td>NaN</td>\n",
       "      <td>NaN</td>\n",
       "      <td>NaN</td>\n",
       "      <td>NaN</td>\n",
       "      <td>NaN</td>\n",
       "      <td>NaN</td>\n",
       "      <td>NaN</td>\n",
       "      <td>NaN</td>\n",
       "      <td>NaN</td>\n",
       "    </tr>\n",
       "    <tr>\n",
       "      <th>933</th>\n",
       "      <td>92-28</td>\n",
       "      <td>0.0</td>\n",
       "      <td>22.0</td>\n",
       "      <td>male</td>\n",
       "      <td>188.0</td>\n",
       "      <td>82.0</td>\n",
       "      <td>non_smoker</td>\n",
       "      <td>uc</td>\n",
       "      <td>2024-06-01</td>\n",
       "      <td>NaN</td>\n",
       "      <td>...</td>\n",
       "      <td>NaN</td>\n",
       "      <td>NaN</td>\n",
       "      <td>NaN</td>\n",
       "      <td>NaN</td>\n",
       "      <td>NaN</td>\n",
       "      <td>NaN</td>\n",
       "      <td>NaN</td>\n",
       "      <td>NaN</td>\n",
       "      <td>NaN</td>\n",
       "      <td>NaN</td>\n",
       "    </tr>\n",
       "  </tbody>\n",
       "</table>\n",
       "<p>5 rows × 47 columns</p>\n",
       "</div>"
      ],
      "text/plain": [
       "    study_id  cucq_5   age     sex  height  weight smoking_status study_group  \\\n",
       "539   90-121     7.0  33.0    male   177.8    78.5     non_smoker          cd   \n",
       "796    91-52     3.0  23.0  female   165.0   103.6     non_smoker          cd   \n",
       "806    91-54    14.0  60.0  female   155.0    49.9      ex_smoker          cd   \n",
       "925    92-26     5.0  18.0  female   169.5    58.7     non_smoker          uc   \n",
       "933    92-28     0.0  22.0    male   188.0    82.0     non_smoker          uc   \n",
       "\n",
       "    date_of_diagnosis montreal_cd_location  ... sampling_ifx  sampling_ada  \\\n",
       "539        2018-06-01                   L2  ...          NaN           NaN   \n",
       "796        2024-02-07                   L2  ...          NaN           NaN   \n",
       "806        1990-01-01                   L3  ...          NaN           NaN   \n",
       "925        2024-01-15                  NaN  ...          NaN           NaN   \n",
       "933        2024-06-01                  NaN  ...          NaN           NaN   \n",
       "\n",
       "     sampling_vedo sampling_uste sampling_tofa  sampling_mtx  \\\n",
       "539            NaN           NaN           NaN           NaN   \n",
       "796            NaN           NaN           NaN           NaN   \n",
       "806            NaN           NaN           NaN           NaN   \n",
       "925            NaN           NaN           NaN           NaN   \n",
       "933            NaN           NaN           NaN           NaN   \n",
       "\n",
       "     sampling_ciclosporin  sampling_filgo  sampling_upa  sampling_risa  \n",
       "539                   NaN             NaN           NaN            NaN  \n",
       "796                   NaN             NaN           NaN            NaN  \n",
       "806                   NaN             NaN           NaN            NaN  \n",
       "925                   NaN             NaN           NaN            NaN  \n",
       "933                   NaN             NaN           NaN            NaN  \n",
       "\n",
       "[5 rows x 47 columns]"
      ]
     },
     "execution_count": 12,
     "metadata": {},
     "output_type": "execute_result"
    }
   ],
   "source": [
    "music_output_df.head()"
   ]
  },
  {
   "cell_type": "code",
   "execution_count": 13,
   "id": "e3742ad7",
   "metadata": {},
   "outputs": [
    {
     "data": {
      "application/vnd.microsoft.datawrangler.viewer.v0+json": {
       "columns": [
        {
         "name": "index",
         "rawType": "int64",
         "type": "integer"
        },
        {
         "name": "sampling_setting",
         "rawType": "object",
         "type": "unknown"
        },
        {
         "name": "study_id",
         "rawType": "object",
         "type": "string"
        },
        {
         "name": "cucq_5",
         "rawType": "float64",
         "type": "float"
        },
        {
         "name": "age",
         "rawType": "float64",
         "type": "float"
        },
        {
         "name": "sex",
         "rawType": "object",
         "type": "string"
        },
        {
         "name": "height",
         "rawType": "float64",
         "type": "float"
        },
        {
         "name": "weight",
         "rawType": "float64",
         "type": "float"
        },
        {
         "name": "smoking_status",
         "rawType": "object",
         "type": "string"
        },
        {
         "name": "study_group",
         "rawType": "object",
         "type": "string"
        },
        {
         "name": "date_of_diagnosis",
         "rawType": "object",
         "type": "string"
        },
        {
         "name": "montreal_cd_location",
         "rawType": "object",
         "type": "unknown"
        },
        {
         "name": "montreal_cd_behaviour",
         "rawType": "object",
         "type": "unknown"
        },
        {
         "name": "montreal_upper_gi",
         "rawType": "float64",
         "type": "float"
        },
        {
         "name": "montreal_perianal",
         "rawType": "float64",
         "type": "float"
        },
        {
         "name": "montreal_uc_extent",
         "rawType": "object",
         "type": "unknown"
        },
        {
         "name": "montreal_uc_severity",
         "rawType": "object",
         "type": "unknown"
        },
        {
         "name": "has_active_symptoms",
         "rawType": "float64",
         "type": "float"
        },
        {
         "name": "haemoglobin",
         "rawType": "float64",
         "type": "float"
        },
        {
         "name": "red_cell_count",
         "rawType": "float64",
         "type": "float"
        },
        {
         "name": "white_cell_count",
         "rawType": "float64",
         "type": "float"
        },
        {
         "name": "neutrophils",
         "rawType": "float64",
         "type": "float"
        },
        {
         "name": "lymphocytes",
         "rawType": "float64",
         "type": "float"
        },
        {
         "name": "monocytes",
         "rawType": "float64",
         "type": "float"
        },
        {
         "name": "eosinophils",
         "rawType": "float64",
         "type": "float"
        },
        {
         "name": "basophils",
         "rawType": "float64",
         "type": "float"
        },
        {
         "name": "platelets",
         "rawType": "float64",
         "type": "float"
        },
        {
         "name": "urea",
         "rawType": "float64",
         "type": "float"
        },
        {
         "name": "creatinine",
         "rawType": "float64",
         "type": "float"
        },
        {
         "name": "sodium",
         "rawType": "float64",
         "type": "float"
        },
        {
         "name": "potassium",
         "rawType": "float64",
         "type": "float"
        },
        {
         "name": "crp",
         "rawType": "float64",
         "type": "float"
        },
        {
         "name": "albumin",
         "rawType": "float64",
         "type": "float"
        },
        {
         "name": "calprotectin",
         "rawType": "object",
         "type": "unknown"
        },
        {
         "name": "sampling_steroids",
         "rawType": "float64",
         "type": "float"
        },
        {
         "name": "sampling_abx",
         "rawType": "float64",
         "type": "float"
        },
        {
         "name": "sampling_asa",
         "rawType": "float64",
         "type": "float"
        },
        {
         "name": "sampling_aza",
         "rawType": "float64",
         "type": "float"
        },
        {
         "name": "sampling_mp",
         "rawType": "float64",
         "type": "float"
        },
        {
         "name": "sampling_ifx",
         "rawType": "float64",
         "type": "float"
        },
        {
         "name": "sampling_ada",
         "rawType": "float64",
         "type": "float"
        },
        {
         "name": "sampling_vedo",
         "rawType": "float64",
         "type": "float"
        },
        {
         "name": "sampling_uste",
         "rawType": "float64",
         "type": "float"
        },
        {
         "name": "sampling_tofa",
         "rawType": "float64",
         "type": "float"
        },
        {
         "name": "sampling_mtx",
         "rawType": "float64",
         "type": "float"
        },
        {
         "name": "sampling_ciclosporin",
         "rawType": "float64",
         "type": "float"
        },
        {
         "name": "sampling_filgo",
         "rawType": "float64",
         "type": "float"
        },
        {
         "name": "sampling_upa",
         "rawType": "float64",
         "type": "float"
        },
        {
         "name": "sampling_risa",
         "rawType": "float64",
         "type": "float"
        }
       ],
       "conversionMethod": "pd.DataFrame",
       "ref": "009e7f37-a0d8-4c3f-800c-4db671152fcf",
       "rows": [
        [
         "0",
         "endoscopy",
         "GID-763",
         "14.0",
         "41.0",
         "male",
         "183.0",
         "79.4",
         "non_smoker",
         "uc",
         "2017-06-01",
         null,
         null,
         null,
         null,
         "E2",
         "S2",
         "0.0",
         "151.0",
         "4.9",
         "4.9",
         "1.7",
         "2.52",
         "0.41",
         "0.24",
         "0.04",
         "203.0",
         "4.2",
         "73.0",
         "140.0",
         "4.1",
         "1.0",
         "43.0",
         null,
         "0.0",
         "0.0",
         "1.0",
         null,
         null,
         null,
         null,
         null,
         null,
         null,
         null,
         null,
         null,
         null,
         null
        ],
        [
         "2",
         null,
         "91-52",
         "3.0",
         "23.0",
         "female",
         "165.0",
         "103.6",
         "non_smoker",
         "cd",
         "2024-02-07",
         "L2",
         "B1",
         null,
         null,
         null,
         null,
         "0.0",
         "142.0",
         "4.45",
         "10.5",
         "7.7",
         "1.4",
         "1.0",
         "0.29",
         "0.1",
         "443.0",
         "5.0",
         "65.0",
         "140.0",
         "4.6",
         "11.0",
         "41.0",
         "42",
         null,
         null,
         null,
         null,
         null,
         null,
         null,
         null,
         null,
         null,
         null,
         null,
         null,
         null,
         null
        ],
        [
         "3",
         null,
         "91-54",
         "14.0",
         "60.0",
         "female",
         "155.0",
         "49.9",
         "ex_smoker",
         "cd",
         "1990-01-01",
         "L3",
         "B2",
         null,
         null,
         null,
         null,
         "1.0",
         "127.0",
         "4.25",
         "6.8",
         "4.0",
         "2.1",
         "0.5",
         "0.15",
         "0.1",
         "265.0",
         "4.9",
         "72.0",
         "139.0",
         "4.5",
         "1.0",
         "38.0",
         "31",
         null,
         null,
         null,
         null,
         null,
         null,
         null,
         null,
         null,
         null,
         null,
         null,
         null,
         null,
         null
        ],
        [
         "4",
         null,
         "92-26",
         "5.0",
         "18.0",
         "female",
         "169.5",
         "58.7",
         "non_smoker",
         "uc",
         "2024-01-15",
         null,
         null,
         null,
         null,
         null,
         null,
         "1.0",
         "126.0",
         "4.28",
         "6.7",
         "2.8",
         "3.0",
         "0.4",
         "0.45",
         "0.0",
         "270.0",
         "3.4",
         "46.0",
         "138.0",
         "4.1",
         "0.5",
         "39.0",
         null,
         null,
         null,
         null,
         null,
         null,
         null,
         null,
         null,
         null,
         null,
         null,
         null,
         null,
         null,
         null
        ],
        [
         "5",
         null,
         "92-28",
         "0.0",
         "22.0",
         "male",
         "188.0",
         "82.0",
         "non_smoker",
         "uc",
         "2024-06-01",
         null,
         null,
         null,
         null,
         "E3",
         "S0",
         "0.0",
         "116.0",
         "5.28",
         "6.2",
         "2.7",
         "0.4",
         "0.4",
         "0.13",
         "0.0",
         "311.0",
         "4.8",
         "64.0",
         "139.0",
         "4.3",
         "0.0",
         "40.0",
         null,
         null,
         null,
         null,
         null,
         null,
         null,
         null,
         null,
         null,
         null,
         null,
         null,
         null,
         null,
         null
        ]
       ],
       "shape": {
        "columns": 48,
        "rows": 5
       }
      },
      "text/html": [
       "<div>\n",
       "<style scoped>\n",
       "    .dataframe tbody tr th:only-of-type {\n",
       "        vertical-align: middle;\n",
       "    }\n",
       "\n",
       "    .dataframe tbody tr th {\n",
       "        vertical-align: top;\n",
       "    }\n",
       "\n",
       "    .dataframe thead th {\n",
       "        text-align: right;\n",
       "    }\n",
       "</style>\n",
       "<table border=\"1\" class=\"dataframe\">\n",
       "  <thead>\n",
       "    <tr style=\"text-align: right;\">\n",
       "      <th></th>\n",
       "      <th>sampling_setting</th>\n",
       "      <th>study_id</th>\n",
       "      <th>cucq_5</th>\n",
       "      <th>age</th>\n",
       "      <th>sex</th>\n",
       "      <th>height</th>\n",
       "      <th>weight</th>\n",
       "      <th>smoking_status</th>\n",
       "      <th>study_group</th>\n",
       "      <th>date_of_diagnosis</th>\n",
       "      <th>...</th>\n",
       "      <th>sampling_ifx</th>\n",
       "      <th>sampling_ada</th>\n",
       "      <th>sampling_vedo</th>\n",
       "      <th>sampling_uste</th>\n",
       "      <th>sampling_tofa</th>\n",
       "      <th>sampling_mtx</th>\n",
       "      <th>sampling_ciclosporin</th>\n",
       "      <th>sampling_filgo</th>\n",
       "      <th>sampling_upa</th>\n",
       "      <th>sampling_risa</th>\n",
       "    </tr>\n",
       "  </thead>\n",
       "  <tbody>\n",
       "    <tr>\n",
       "      <th>0</th>\n",
       "      <td>endoscopy</td>\n",
       "      <td>GID-763</td>\n",
       "      <td>14.0</td>\n",
       "      <td>41.0</td>\n",
       "      <td>male</td>\n",
       "      <td>183.0</td>\n",
       "      <td>79.4</td>\n",
       "      <td>non_smoker</td>\n",
       "      <td>uc</td>\n",
       "      <td>2017-06-01</td>\n",
       "      <td>...</td>\n",
       "      <td>NaN</td>\n",
       "      <td>NaN</td>\n",
       "      <td>NaN</td>\n",
       "      <td>NaN</td>\n",
       "      <td>NaN</td>\n",
       "      <td>NaN</td>\n",
       "      <td>NaN</td>\n",
       "      <td>NaN</td>\n",
       "      <td>NaN</td>\n",
       "      <td>NaN</td>\n",
       "    </tr>\n",
       "    <tr>\n",
       "      <th>2</th>\n",
       "      <td>NaN</td>\n",
       "      <td>91-52</td>\n",
       "      <td>3.0</td>\n",
       "      <td>23.0</td>\n",
       "      <td>female</td>\n",
       "      <td>165.0</td>\n",
       "      <td>103.6</td>\n",
       "      <td>non_smoker</td>\n",
       "      <td>cd</td>\n",
       "      <td>2024-02-07</td>\n",
       "      <td>...</td>\n",
       "      <td>NaN</td>\n",
       "      <td>NaN</td>\n",
       "      <td>NaN</td>\n",
       "      <td>NaN</td>\n",
       "      <td>NaN</td>\n",
       "      <td>NaN</td>\n",
       "      <td>NaN</td>\n",
       "      <td>NaN</td>\n",
       "      <td>NaN</td>\n",
       "      <td>NaN</td>\n",
       "    </tr>\n",
       "    <tr>\n",
       "      <th>3</th>\n",
       "      <td>NaN</td>\n",
       "      <td>91-54</td>\n",
       "      <td>14.0</td>\n",
       "      <td>60.0</td>\n",
       "      <td>female</td>\n",
       "      <td>155.0</td>\n",
       "      <td>49.9</td>\n",
       "      <td>ex_smoker</td>\n",
       "      <td>cd</td>\n",
       "      <td>1990-01-01</td>\n",
       "      <td>...</td>\n",
       "      <td>NaN</td>\n",
       "      <td>NaN</td>\n",
       "      <td>NaN</td>\n",
       "      <td>NaN</td>\n",
       "      <td>NaN</td>\n",
       "      <td>NaN</td>\n",
       "      <td>NaN</td>\n",
       "      <td>NaN</td>\n",
       "      <td>NaN</td>\n",
       "      <td>NaN</td>\n",
       "    </tr>\n",
       "    <tr>\n",
       "      <th>4</th>\n",
       "      <td>NaN</td>\n",
       "      <td>92-26</td>\n",
       "      <td>5.0</td>\n",
       "      <td>18.0</td>\n",
       "      <td>female</td>\n",
       "      <td>169.5</td>\n",
       "      <td>58.7</td>\n",
       "      <td>non_smoker</td>\n",
       "      <td>uc</td>\n",
       "      <td>2024-01-15</td>\n",
       "      <td>...</td>\n",
       "      <td>NaN</td>\n",
       "      <td>NaN</td>\n",
       "      <td>NaN</td>\n",
       "      <td>NaN</td>\n",
       "      <td>NaN</td>\n",
       "      <td>NaN</td>\n",
       "      <td>NaN</td>\n",
       "      <td>NaN</td>\n",
       "      <td>NaN</td>\n",
       "      <td>NaN</td>\n",
       "    </tr>\n",
       "    <tr>\n",
       "      <th>5</th>\n",
       "      <td>NaN</td>\n",
       "      <td>92-28</td>\n",
       "      <td>0.0</td>\n",
       "      <td>22.0</td>\n",
       "      <td>male</td>\n",
       "      <td>188.0</td>\n",
       "      <td>82.0</td>\n",
       "      <td>non_smoker</td>\n",
       "      <td>uc</td>\n",
       "      <td>2024-06-01</td>\n",
       "      <td>...</td>\n",
       "      <td>NaN</td>\n",
       "      <td>NaN</td>\n",
       "      <td>NaN</td>\n",
       "      <td>NaN</td>\n",
       "      <td>NaN</td>\n",
       "      <td>NaN</td>\n",
       "      <td>NaN</td>\n",
       "      <td>NaN</td>\n",
       "      <td>NaN</td>\n",
       "      <td>NaN</td>\n",
       "    </tr>\n",
       "  </tbody>\n",
       "</table>\n",
       "<p>5 rows × 48 columns</p>\n",
       "</div>"
      ],
      "text/plain": [
       "  sampling_setting study_id  cucq_5   age     sex  height  weight  \\\n",
       "0        endoscopy  GID-763    14.0  41.0    male   183.0    79.4   \n",
       "2              NaN    91-52     3.0  23.0  female   165.0   103.6   \n",
       "3              NaN    91-54    14.0  60.0  female   155.0    49.9   \n",
       "4              NaN    92-26     5.0  18.0  female   169.5    58.7   \n",
       "5              NaN    92-28     0.0  22.0    male   188.0    82.0   \n",
       "\n",
       "  smoking_status study_group date_of_diagnosis  ... sampling_ifx sampling_ada  \\\n",
       "0     non_smoker          uc        2017-06-01  ...          NaN          NaN   \n",
       "2     non_smoker          cd        2024-02-07  ...          NaN          NaN   \n",
       "3      ex_smoker          cd        1990-01-01  ...          NaN          NaN   \n",
       "4     non_smoker          uc        2024-01-15  ...          NaN          NaN   \n",
       "5     non_smoker          uc        2024-06-01  ...          NaN          NaN   \n",
       "\n",
       "   sampling_vedo  sampling_uste sampling_tofa sampling_mtx  \\\n",
       "0            NaN            NaN           NaN          NaN   \n",
       "2            NaN            NaN           NaN          NaN   \n",
       "3            NaN            NaN           NaN          NaN   \n",
       "4            NaN            NaN           NaN          NaN   \n",
       "5            NaN            NaN           NaN          NaN   \n",
       "\n",
       "   sampling_ciclosporin  sampling_filgo  sampling_upa  sampling_risa  \n",
       "0                   NaN             NaN           NaN            NaN  \n",
       "2                   NaN             NaN           NaN            NaN  \n",
       "3                   NaN             NaN           NaN            NaN  \n",
       "4                   NaN             NaN           NaN            NaN  \n",
       "5                   NaN             NaN           NaN            NaN  \n",
       "\n",
       "[5 rows x 48 columns]"
      ]
     },
     "execution_count": 13,
     "metadata": {},
     "output_type": "execute_result"
    }
   ],
   "source": [
    "# Concat the two dataframes\n",
    "combined_output_df = pd.concat([gidamps_output_df, music_output_df], ignore_index=True)\n",
    "\n",
    "# Drop the rows where haemoglobin is NaN\n",
    "combined_output_df = combined_output_df.dropna(subset=['haemoglobin'])\n",
    "\n",
    "combined_output_df.head()"
   ]
  },
  {
   "cell_type": "code",
   "execution_count": 15,
   "id": "796228df",
   "metadata": {},
   "outputs": [],
   "source": [
    "# Clean up output_df\n",
    "\n",
    "# Capitalize df['sex'] first letter\n",
    "combined_output_df['sex'] = combined_output_df['sex'].str.capitalize()\n",
    "# Make study group all caps\n",
    "combined_output_df['study_group'] = combined_output_df['study_group'].str.upper()\n",
    "# Replace underscores with space in smoking_status and capitalize first letter\n",
    "combined_output_df['smoking_status'] = combined_output_df['smoking_status'].str.replace('_', ' ')\n",
    "combined_output_df['smoking_status'] = combined_output_df['smoking_status'].str.capitalize()\n",
    "# Replace has_active_symptoms 0 with No and 1 with Yes\n",
    "combined_output_df['has_active_symptoms'] = combined_output_df['has_active_symptoms'].replace({0: 'No', 1: 'Yes'})"
   ]
  },
  {
   "cell_type": "code",
   "execution_count": 16,
   "id": "b2daec6c",
   "metadata": {},
   "outputs": [],
   "source": [
    "\n",
    "combined_output_df.to_csv(\"raw_data/scotland_additional_validation_data.csv\", index=False)"
   ]
  }
 ],
 "metadata": {
  "kernelspec": {
   "display_name": "venv",
   "language": "python",
   "name": "python3"
  },
  "language_info": {
   "codemirror_mode": {
    "name": "ipython",
    "version": 3
   },
   "file_extension": ".py",
   "mimetype": "text/x-python",
   "name": "python",
   "nbconvert_exporter": "python",
   "pygments_lexer": "ipython3",
   "version": "3.11.9"
  }
 },
 "nbformat": 4,
 "nbformat_minor": 5
}
