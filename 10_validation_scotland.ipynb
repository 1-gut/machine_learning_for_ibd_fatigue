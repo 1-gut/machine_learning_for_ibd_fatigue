{
 "cells": [
  {
   "cell_type": "code",
   "execution_count": 1,
   "id": "0e45aeb6",
   "metadata": {},
   "outputs": [],
   "source": [
    "import pandas as pd\n",
    "\n",
    "df_music = pd.read_csv(\"data/music_main_2025-04-22.csv\")\n",
    "df_gidamps = pd.read_csv(\"data/gidamps_sampling_2025-04-22.csv\")"
   ]
  },
  {
   "cell_type": "code",
   "execution_count": 2,
   "id": "3ea5a2b2",
   "metadata": {},
   "outputs": [
    {
     "name": "stdout",
     "output_type": "stream",
     "text": [
      "Number of GIDAMPs rows with non-NA cucq_5 after Jan 1st 2025: 1\n",
      "\n",
      "First few rows of filtered data:\n",
      "     sampling_date  cucq_5\n",
      "1091    2025-02-03    14.0\n",
      "Number of MUSIC rows after Jan 1st 2025: 35\n"
     ]
    }
   ],
   "source": [
    "df_music['cucq_date']# Convert cucq_date to datetime format first\n",
    "df_music['cucq_date'] = pd.to_datetime(df_music['cucq_date']) \n",
    "\n",
    "# Filter for dates after Jan 1st 2025\n",
    "cutoff_date = pd.to_datetime('2025-01-01')\n",
    "\n",
    "music_future_dates = df_music[df_music['cucq_date'] > cutoff_date].shape[0]\n",
    "\n",
    "# Convert sampling_date to datetime if not already done\n",
    "df_gidamps['sampling_date'] = pd.to_datetime(df_gidamps['sampling_date'])\n",
    "\n",
    "# Filter for non-NA cucq_5 and dates after cutoff\n",
    "cutoff_date = pd.to_datetime('2025-01-01')\n",
    "filtered_gidamps = df_gidamps[\n",
    "    (df_gidamps['cucq_5'].notna()) & \n",
    "    (df_gidamps['sampling_date'] > cutoff_date)\n",
    "]\n",
    "\n",
    "print(f\"Number of GIDAMPs rows with non-NA cucq_5 after Jan 1st 2025: {len(filtered_gidamps)}\")\n",
    "\n",
    "# Optional: Display first few rows to verify\n",
    "print(\"\\nFirst few rows of filtered data:\")\n",
    "print(filtered_gidamps[['sampling_date', 'cucq_5']].head())\n",
    "\n",
    "print(f\"Number of MUSIC rows after Jan 1st 2025: {music_future_dates}\")"
   ]
  },
  {
   "cell_type": "code",
   "execution_count": 3,
   "id": "03e7364a",
   "metadata": {},
   "outputs": [],
   "source": [
    "df_music_existing = pd.read_csv(\"raw_data/gidamps_music_combined_fatigue_df_111224_with_cmh.csv\")\n",
    "\n",
    "# remove mid prefix from df_music['study_id']\n",
    "df_music['study_id'] = df_music['study_id'].str.replace('MID-', '', regex=False)"
   ]
  },
  {
   "cell_type": "code",
   "execution_count": 5,
   "id": "df435f30",
   "metadata": {},
   "outputs": [
    {
     "name": "stdout",
     "output_type": "stream",
     "text": [
      "Number of unique study_ids in music_future_dates not in df_music_existing: 9\n",
      "Missing study_ids: {'92-34', '90-121', '92-26', '92-35', '91-52', '92-33', '191-2', '92-28', '91-54'}\n"
     ]
    }
   ],
   "source": [
    "music_future_dates = df_music[df_music['cucq_date'] > cutoff_date]\n",
    "\n",
    "# check music_future_dates for study_ids in df_music_existing\n",
    "existing_study_ids = df_music_existing['study_id'].unique()\n",
    "music_future_study_ids = music_future_dates['study_id'].unique()\n",
    "# Find study_ids in music_future_dates that are not in df_music_existing\n",
    "missing_study_ids = set(music_future_study_ids) - set(existing_study_ids)\n",
    "print(f\"Number of unique study_ids in music_future_dates not in df_music_existing: {len(missing_study_ids)}\")\n",
    "print(f\"Missing study_ids: {missing_study_ids}\")"
   ]
  },
  {
   "cell_type": "code",
   "execution_count": 6,
   "id": "61a99b42",
   "metadata": {},
   "outputs": [],
   "source": [
    "# subset music_futures_dates to only include the missing study_ids\n",
    "\n",
    "music_future_dates_missing = music_future_dates[\n",
    "    music_future_dates['study_id'].isin(missing_study_ids)\n",
    "]"
   ]
  },
  {
   "cell_type": "markdown",
   "id": "1e0fcf04",
   "metadata": {},
   "source": [
    "We could potentially add 10 more datapoints in from GI-DAMPs and MUSIC recruited after 2025-01-01."
   ]
  }
 ],
 "metadata": {
  "kernelspec": {
   "display_name": "venv",
   "language": "python",
   "name": "python3"
  },
  "language_info": {
   "codemirror_mode": {
    "name": "ipython",
    "version": 3
   },
   "file_extension": ".py",
   "mimetype": "text/x-python",
   "name": "python",
   "nbconvert_exporter": "python",
   "pygments_lexer": "ipython3",
   "version": "3.11.9"
  }
 },
 "nbformat": 4,
 "nbformat_minor": 5
}
