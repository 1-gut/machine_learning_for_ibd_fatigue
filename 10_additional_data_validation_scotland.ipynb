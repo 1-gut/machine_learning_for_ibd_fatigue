{
 "cells": [
  {
   "cell_type": "code",
   "execution_count": 1,
   "id": "0e45aeb6",
   "metadata": {},
   "outputs": [],
   "source": [
    "import pandas as pd\n",
    "\n",
    "df_music = pd.read_csv(\"raw_data/music_main_2025-04-30.csv\")\n",
    "df_gidamps = pd.read_csv(\"raw_data/gidamps_sampling_2025-04-30.csv\")"
   ]
  },
  {
   "cell_type": "code",
   "execution_count": 2,
   "id": "3ea5a2b2",
   "metadata": {},
   "outputs": [
    {
     "name": "stdout",
     "output_type": "stream",
     "text": [
      "Number of GIDAMPs rows with non-NA cucq_5 after Jan 1st 2025: 1\n",
      "\n",
      "First few rows of filtered data:\n",
      "     sampling_date  cucq_5\n",
      "1091    2025-02-03    14.0\n",
      "Number of MUSIC rows after Jan 1st 2025: 38\n"
     ]
    }
   ],
   "source": [
    "df_music['cucq_date']# Convert cucq_date to datetime format first\n",
    "df_music['cucq_date'] = pd.to_datetime(df_music['cucq_date']) \n",
    "\n",
    "# Filter for dates after Jan 1st 2025\n",
    "cutoff_date = pd.to_datetime('2025-01-01')\n",
    "\n",
    "music_future_dates = df_music[df_music['cucq_date'] > cutoff_date].shape[0]\n",
    "\n",
    "# Convert sampling_date to datetime if not already done\n",
    "df_gidamps['sampling_date'] = pd.to_datetime(df_gidamps['sampling_date'])\n",
    "\n",
    "# Filter for non-NA cucq_5 and dates after cutoff\n",
    "cutoff_date = pd.to_datetime('2025-01-01')\n",
    "filtered_gidamps = df_gidamps[\n",
    "    (df_gidamps['cucq_5'].notna()) & \n",
    "    (df_gidamps['sampling_date'] > cutoff_date)\n",
    "]\n",
    "\n",
    "print(f\"Number of GIDAMPs rows with non-NA cucq_5 after Jan 1st 2025: {len(filtered_gidamps)}\")\n",
    "\n",
    "# Optional: Display first few rows to verify\n",
    "print(\"\\nFirst few rows of filtered data:\")\n",
    "print(filtered_gidamps[['sampling_date', 'cucq_5']].head())\n",
    "\n",
    "print(f\"Number of MUSIC rows after Jan 1st 2025: {music_future_dates}\")"
   ]
  },
  {
   "cell_type": "code",
   "execution_count": 3,
   "id": "03e7364a",
   "metadata": {},
   "outputs": [],
   "source": [
    "df_music_existing = pd.read_csv(\"raw_data/gidamps_music_combined_fatigue_df_111224_with_cmh.csv\")\n",
    "\n",
    "# remove mid prefix from df_music['study_id']\n",
    "df_music['study_id'] = df_music['study_id'].str.replace('MID-', '', regex=False)"
   ]
  },
  {
   "cell_type": "code",
   "execution_count": 4,
   "id": "df435f30",
   "metadata": {},
   "outputs": [
    {
     "name": "stdout",
     "output_type": "stream",
     "text": [
      "Number of unique study_ids in music_future_dates not in df_music_existing: 9\n",
      "Missing study_ids: {'191-2', '91-54', '92-28', '90-121', '91-52', '92-35', '92-33', '92-26', '92-34'}\n"
     ]
    }
   ],
   "source": [
    "music_future_dates = df_music[df_music['cucq_date'] > cutoff_date]\n",
    "\n",
    "# check music_future_dates for study_ids in df_music_existing\n",
    "existing_study_ids = df_music_existing['study_id'].unique()\n",
    "music_future_study_ids = music_future_dates['study_id'].unique()\n",
    "# Find study_ids in music_future_dates that are not in df_music_existing\n",
    "missing_study_ids = set(music_future_study_ids) - set(existing_study_ids)\n",
    "print(f\"Number of unique study_ids in music_future_dates not in df_music_existing: {len(missing_study_ids)}\")\n",
    "print(f\"Missing study_ids: {missing_study_ids}\")"
   ]
  },
  {
   "cell_type": "code",
   "execution_count": 5,
   "id": "61a99b42",
   "metadata": {},
   "outputs": [],
   "source": [
    "# subset music_futures_dates to only include the missing study_ids\n",
    "\n",
    "music_future_dates_missing = music_future_dates[\n",
    "    music_future_dates['study_id'].isin(missing_study_ids)\n",
    "]"
   ]
  },
  {
   "cell_type": "markdown",
   "id": "1e0fcf04",
   "metadata": {},
   "source": [
    "We could potentially add 10 more datapoints in from GI-DAMPs and MUSIC recruited after 2025-01-01."
   ]
  },
  {
   "cell_type": "code",
   "execution_count": null,
   "id": "a9b90355",
   "metadata": {},
   "outputs": [],
   "source": [
    "# Extract cols from filtered_gidamps and music_future_dates_missing\n",
    "\n",
    "cols_to_extract = [\n",
    "    \"cucq_5\",\n",
    "    \"age\",\n",
    "    \"sex\", \n",
    "    \"height\",\n",
    "    \"weight\",\n",
    "    \"smoking_status\",\n",
    "    \"study_group\",\n",
    "    \"date_of_diagnosis\",\n",
    "    \"montreal_cd_location\",\n",
    "    \"montreal_cd_behaviour\",\n",
    "    \"montreal_upper_gi\",\n",
    "    \"montreal_perianal\",\n",
    "    \"montreal_uc_extent\",\n",
    "    \"montreal_uc_severity\",\n",
    "    \"has_active_symptoms\",\n",
    "    \"haemoglobin\",\n",
    "    \"red_cell_count\",\n",
    "    \"white_cell_count\",\n",
    "    \"neutrophils\",\n",
    "    \"lymphocytes\",\n",
    "    \"monocytes\",\n",
    "    \"eosinophils\",\n",
    "    \"basophils\",\n",
    "    \"platelets\",\n",
    "    \"urea\",\n",
    "    \"creatinine\",\n",
    "    \"sodium\",\n",
    "    \"potassium\",\n",
    "    \"crp\",\n",
    "    \"albumin\",\n",
    "    \"calprotectin\",\n",
    "    \"sampling_steroids\",\n",
    "    \"sampling_abx\",\n",
    "    \"sampling_asa\",\n",
    "    \"sampling_aza\",\n",
    "    \"sampling_mp\",\n",
    "    \"sampling_ifx\",\n",
    "    \"sampling_ada\",\n",
    "    \"sampling_vedo\",\n",
    "    \"sampling_uste\",\n",
    "    \"sampling_tofa\",\n",
    "    \"sampling_mtx\",\n",
    "    \"sampling_ciclosporin\",\n",
    "    \"sampling_filgo\",\n",
    "    \"sampling_upa\",\n",
    "    \"sampling_risa\"\n",
    "]"
   ]
  },
  {
   "cell_type": "code",
   "execution_count": 9,
   "id": "664ea39b",
   "metadata": {},
   "outputs": [
    {
     "name": "stdout",
     "output_type": "stream",
     "text": [
      "All columns are present in filtered_gidamps.\n"
     ]
    }
   ],
   "source": [
    "# Check that filtered_gidamps has all the columns\n",
    "missing_cols = [col for col in cols_to_extract if col not in filtered_gidamps.columns]\n",
    "if missing_cols:\n",
    "    print(f\"Missing columns in filtered_gidamps: {missing_cols}\")\n",
    "else:\n",
    "    print(\"All columns are present in filtered_gidamps.\")"
   ]
  },
  {
   "cell_type": "code",
   "execution_count": 10,
   "id": "e7849ad4",
   "metadata": {},
   "outputs": [
    {
     "name": "stdout",
     "output_type": "stream",
     "text": [
      "All columns are present in music_future_dates_missing.\n"
     ]
    }
   ],
   "source": [
    "# Check that music_future_dates_missing has all the columns\n",
    "missing_cols = [col for col in cols_to_extract if col not in music_future_dates_missing.columns]\n",
    "if missing_cols:\n",
    "    print(f\"Missing columns in music_future_dates_missing: {missing_cols}\")\n",
    "else:\n",
    "    print(\"All columns are present in music_future_dates_missing.\")"
   ]
  },
  {
   "cell_type": "markdown",
   "id": "af90d9dd",
   "metadata": {},
   "source": [
    "90-121 and 191-2 to recollect data"
   ]
  },
  {
   "cell_type": "code",
   "execution_count": null,
   "id": "7b026796",
   "metadata": {},
   "outputs": [],
   "source": []
  }
 ],
 "metadata": {
  "kernelspec": {
   "display_name": "venv",
   "language": "python",
   "name": "python3"
  },
  "language_info": {
   "codemirror_mode": {
    "name": "ipython",
    "version": 3
   },
   "file_extension": ".py",
   "mimetype": "text/x-python",
   "name": "python",
   "nbconvert_exporter": "python",
   "pygments_lexer": "ipython3",
   "version": "3.11.9"
  }
 },
 "nbformat": 4,
 "nbformat_minor": 5
}
