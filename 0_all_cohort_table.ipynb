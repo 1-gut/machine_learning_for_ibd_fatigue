{
 "cells": [
  {
   "cell_type": "markdown",
   "id": "2dffafc7",
   "metadata": {},
   "source": [
    "# Data Harmonisation for Cohort Comparison Table\n",
    "\n",
    "This notebook merges and concatenates data from the 3 cohorts for export into a unified dataframe. Subsequently processed in R's gtsummary package. The first table output provides the table structure. The second table provides the p-values for direct comparison between cohorts 1 and 2 (MUSIC and GIDAMPs). Montreal chi square testing is computed manually as the denominator is not the same for each subgroup (UC and CD)."
   ]
  },
  {
   "cell_type": "code",
   "execution_count": 1,
   "id": "445765d0",
   "metadata": {},
   "outputs": [],
   "source": [
    "import pandas as pd\n",
    "from src.data.loading import load_fatigue_dataset, load_online_survey_dataset\n",
    "from src.config.paths import DEMOGRAPHICS_DIR, ensure_output_dirs\n"
   ]
  },
  {
   "cell_type": "code",
   "execution_count": 2,
   "id": "a5dda22a",
   "metadata": {},
   "outputs": [],
   "source": [
    "df = load_fatigue_dataset()\n",
    "\n",
    "# remove redcap_event_name where values are timepoint_2, timepoint_3, timepoint_4, timepoint_5\n",
    "df = df[\n",
    "    ~df[\"redcap_event_name\"].isin(\n",
    "        [\"timepoint_2\", \"timepoint_3\", \"timepoint_4\", \"timepoint_5\"]\n",
    "    )\n",
    "]\n",
    "\n",
    "df_music_demographics = pd.read_csv(\"data/music_demographics_111224.csv\")\n",
    "df_gidamps_demographics = pd.read_csv(\"data/gidamps_demographics_111224.csv\")\n"
   ]
  },
  {
   "cell_type": "code",
   "execution_count": 3,
   "id": "f061d065",
   "metadata": {},
   "outputs": [],
   "source": [
    "df_gidamps_demographics[\"ifx\"] = df_gidamps_demographics[\"ifx\"].map({1: 1, 2: 0})\n",
    "df_gidamps_demographics[\"ciclo\"] = df_gidamps_demographics[\"ciclo\"].map({1: 1, 2: 0})"
   ]
  },
  {
   "cell_type": "code",
   "execution_count": 4,
   "id": "549091af",
   "metadata": {},
   "outputs": [
    {
     "name": "stderr",
     "output_type": "stream",
     "text": [
      "/var/folders/nr/l531ymh174n5bw1dh4b67_z40000gn/T/ipykernel_99479/1536974412.py:38: SettingWithCopyWarning: \n",
      "A value is trying to be set on a copy of a slice from a DataFrame\n",
      "\n",
      "See the caveats in the documentation: https://pandas.pydata.org/pandas-docs/stable/user_guide/indexing.html#returning-a-view-versus-a-copy\n",
      "  df_gidamps.rename(\n",
      "/var/folders/nr/l531ymh174n5bw1dh4b67_z40000gn/T/ipykernel_99479/1536974412.py:56: SettingWithCopyWarning: \n",
      "A value is trying to be set on a copy of a slice from a DataFrame.\n",
      "Try using .loc[row_indexer,col_indexer] = value instead\n",
      "\n",
      "See the caveats in the documentation: https://pandas.pydata.org/pandas-docs/stable/user_guide/indexing.html#returning-a-view-versus-a-copy\n",
      "  df_music[\"baseline_upa\"] = 0\n"
     ]
    }
   ],
   "source": [
    "# Get previous drug therapy from demographics and merge onto fatigue dataset\n",
    "\n",
    "cols_from_music = [\n",
    "    \"study_id\",\n",
    "    \"baseline_aza\",\n",
    "    \"baseline_mp\",\n",
    "    \"baseline_mtx\",\n",
    "    \"baseline_asa\",\n",
    "    \"baseline_ifx\",\n",
    "    \"baseline_ada\",\n",
    "    \"baseline_goli\",\n",
    "    \"baseline_vedo\",\n",
    "    \"baseline_uste\",\n",
    "    \"baseline_risa\",\n",
    "    \"baseline_tofa\",\n",
    "    \"baseline_filgo\",\n",
    "]\n",
    "\n",
    "cols_from_gidamps = [\n",
    "    \"study_id\",\n",
    "    \"aza\",\n",
    "    \"mp\",\n",
    "    \"mtx\",\n",
    "    \"ifx\",\n",
    "    \"ada\",\n",
    "    \"golim\",\n",
    "    \"vedo\",\n",
    "    \"uste\",\n",
    "    \"risa\",\n",
    "    \"tofa\",\n",
    "    \"filgo\",\n",
    "    \"upa\",\n",
    "]\n",
    "\n",
    "df_music = df_music_demographics[cols_from_music]\n",
    "df_gidamps = df_gidamps_demographics[cols_from_gidamps]\n",
    "\n",
    "df_gidamps.rename(\n",
    "    columns={\n",
    "        \"aza\": \"baseline_aza\",\n",
    "        \"mp\": \"baseline_mp\",\n",
    "        \"mtx\": \"baseline_mtx\",\n",
    "        \"ifx\": \"baseline_ifx\",\n",
    "        \"ada\": \"baseline_ada\",\n",
    "        \"golim\": \"baseline_goli\",\n",
    "        \"vedo\": \"baseline_vedo\",\n",
    "        \"uste\": \"baseline_uste\",\n",
    "        \"risa\": \"baseline_risa\",\n",
    "        \"tofa\": \"baseline_tofa\",\n",
    "        \"filgo\": \"baseline_filgo\",\n",
    "        \"upa\": \"baseline_upa\",\n",
    "    },\n",
    "    inplace=True,\n",
    ")\n",
    "\n",
    "df_music[\"baseline_upa\"] = 0\n",
    "\n",
    "df_previous_drug_therapy = pd.concat([df_music, df_gidamps], axis=0)"
   ]
  },
  {
   "cell_type": "code",
   "execution_count": 5,
   "id": "d31e99b2",
   "metadata": {},
   "outputs": [],
   "source": [
    "# Merge df_previous_drug_therapy onto df\n",
    "df = df.merge(df_previous_drug_therapy, on=\"study_id\", how=\"left\")"
   ]
  },
  {
   "cell_type": "code",
   "execution_count": 6,
   "id": "a58e7657",
   "metadata": {},
   "outputs": [],
   "source": [
    "# Calculate year of diagnosis\n",
    "df[\"date_of_diagnosis\"] = pd.to_datetime(df[\"date_of_diagnosis\"], errors=\"coerce\")\n",
    "df[\"cucq_date\"] = pd.to_datetime(df[\"cucq_date\"], errors=\"coerce\")\n",
    "\n",
    "df[\"year_of_diagnosis\"] = df[\"date_of_diagnosis\"].dt.year\n",
    "\n",
    "# Calculate disease_duration_weeks\n",
    "df[\"disease_duration_weeks\"] = (df[\"cucq_date\"] - df[\"date_of_diagnosis\"]).dt.days // 7"
   ]
  },
  {
   "cell_type": "markdown",
   "id": "39e89a69",
   "metadata": {},
   "source": [
    "### Add in Cohort 3 data"
   ]
  },
  {
   "cell_type": "code",
   "execution_count": 7,
   "id": "122c2475",
   "metadata": {},
   "outputs": [],
   "source": [
    "# Cohort 3 Online Survey\n",
    "df_online = load_online_survey_dataset()\n",
    "\n",
    "cols_to_keep = [\n",
    "    \"age\",\n",
    "    \"participant_location\",\n",
    "    \"study_group\",\n",
    "    \"self_reported_disease_activity\",\n",
    "    \"cucq_5\",\n",
    "    \"cucq_total\",\n",
    "]\n",
    "\n",
    "df_online = df_online[cols_to_keep]\n",
    "# Rename columns to match df\n",
    "df_online.rename(\n",
    "    columns={\n",
    "        \"study_group\": \"study_group_name\",\n",
    "    },\n",
    "    inplace=True,\n",
    ")\n",
    "df_online[\"study\"] = \"ONLINE\"\n",
    "\n",
    "# Make study_group_name values uppercase\n",
    "df_online[\"study_group_name\"] = df_online[\"study_group_name\"].str.upper()\n",
    "\n",
    "# Concatenate df and df_online\n",
    "df_combined = pd.concat([df, df_online], ignore_index=True)"
   ]
  },
  {
   "cell_type": "code",
   "execution_count": 8,
   "id": "1b72cf9c",
   "metadata": {},
   "outputs": [],
   "source": [
    "# Remove unneeded columns from df_combined\n",
    "\n",
    "cols_to_remove = [\n",
    "    \"study_id\",\n",
    "    \"redcap_event_name\",\n",
    "    \"date_of_diagnosis\",\n",
    "    \"cucq_date\",\n",
    "    \"baseline_eims_arthralgia_arthritis\",\n",
    "    \"baseline_eims_ankylosing_spondylitis\",\n",
    "    \"baseline_eims_erythema_nodosum\",\n",
    "    \"baseline_eims_pyoderma_gangrenosum\",\n",
    "    \"baseline_eims_uveitis\",\n",
    "    \"baseline_eims_scleritis_episclerities\",\n",
    "    \"urea\",\n",
    "    \"creatinine\",\n",
    "    \"sodium\",\n",
    "    \"potassium\",\n",
    "    \"haematocrit\",\n",
    "    \"neutrophils\",\n",
    "    \"lymphocytes\",\n",
    "    \"monocytes\",\n",
    "    \"eosinophils\",\n",
    "    \"basophils\",\n",
    "    \"ada_drug_level\",\n",
    "    \"ifx_drug_level\",\n",
    "    \"ifx_antibody_present\",\n",
    "    \"ada_antibody_present\",\n",
    "    \"cucq_1\",\n",
    "    \"cucq_2\",\n",
    "    \"cucq_3\",\n",
    "    \"cucq_4\",\n",
    "    \"cucq_6\",\n",
    "    \"cucq_7\",\n",
    "    \"cucq_8\",\n",
    "    \"cucq_9\",\n",
    "    \"cucq_10\",\n",
    "    \"cucq_11\",\n",
    "    \"cucq_12\",\n",
    "    \"cucq_13\",\n",
    "    \"cucq_14\",\n",
    "    \"cucq_15\",\n",
    "    \"cucq_16\",\n",
    "    \"cucq_17\",\n",
    "    \"cucq_18\",\n",
    "    \"cucq_19\",\n",
    "    \"cucq_20\",\n",
    "    \"cucq_21\",\n",
    "    \"cucq_22\",\n",
    "    \"cucq_23\",\n",
    "    \"cucq_24\",\n",
    "    \"cucq_25\",\n",
    "    \"cucq_26\",\n",
    "    \"cucq_27\",\n",
    "    \"cucq_28\",\n",
    "    \"cucq_29\",\n",
    "    \"cucq_30\",\n",
    "    \"cucq_31\",\n",
    "    \"cucq_32\",\n",
    "]\n",
    "\n",
    "df_combined.drop(columns=cols_to_remove, inplace=True, errors=\"ignore\")"
   ]
  },
  {
   "cell_type": "code",
   "execution_count": 9,
   "id": "de7d4e23",
   "metadata": {},
   "outputs": [],
   "source": [
    "# Merge L3 Ileocoloni and L3 Ileocolonic in montreal_cd_location\n",
    "df_combined[\"montreal_cd_location\"] = df_combined[\"montreal_cd_location\"].replace(\n",
    "    {\"L3 Ileocoloni\": \"L3 Ileocolonic\"}\n",
    ")"
   ]
  },
  {
   "cell_type": "code",
   "execution_count": 10,
   "id": "5f025aa1",
   "metadata": {},
   "outputs": [],
   "source": [
    "# Fatigue outcome = 1 if cucq_5 >= 10\n",
    "\n",
    "df_combined[\"fatigue_outcome\"] = df_combined[\"cucq_5\"].apply(\n",
    "    lambda x: 1 if x >= 10 else 0\n",
    ")"
   ]
  },
  {
   "cell_type": "code",
   "execution_count": 11,
   "id": "efe9b31a",
   "metadata": {},
   "outputs": [],
   "source": [
    "# Fill NA with 0 for these columns\n",
    "cols_to_fill_na = [\n",
    "    \"baseline_aza\",\n",
    "    \"baseline_mp\",\n",
    "    \"baseline_mtx\",\n",
    "    \"baseline_asa\",\n",
    "    \"baseline_ifx\",\n",
    "    \"baseline_ada\",\n",
    "    \"baseline_goli\",\n",
    "    \"baseline_vedo\",\n",
    "    \"baseline_uste\",\n",
    "    \"baseline_risa\",\n",
    "    \"baseline_tofa\",\n",
    "    \"baseline_filgo\",\n",
    "    \"baseline_upa\",\n",
    "    \"sampling_steroids\",\n",
    "    \"sampling_abx\",\n",
    "    \"sampling_asa\",\n",
    "    \"sampling_aza\",\n",
    "    \"sampling_mp\",\n",
    "    \"sampling_ifx\",\n",
    "    \"sampling_ada\",\n",
    "    \"sampling_vedo\",\n",
    "    \"sampling_uste\",\n",
    "    \"sampling_tofa\",\n",
    "    \"sampling_mtx\",\n",
    "    \"sampling_ciclosporin\",\n",
    "    \"sampling_filgo\",\n",
    "    \"sampling_upa\",\n",
    "    \"sampling_risa\",\n",
    "    \"has_active_symptoms\",\n",
    "]\n",
    "\n",
    "df_combined[cols_to_fill_na] = df_combined[cols_to_fill_na].fillna(0)"
   ]
  },
  {
   "cell_type": "markdown",
   "id": "34c3f9cc",
   "metadata": {},
   "source": [
    "### Save to csv for R analysis"
   ]
  },
  {
   "cell_type": "code",
   "execution_count": 12,
   "id": "88b79c48",
   "metadata": {},
   "outputs": [],
   "source": [
    "ensure_output_dirs()\n",
    "output_path = DEMOGRAPHICS_DIR / \"all_cohorts_demographics.csv\"\n",
    "df_combined.to_csv(output_path, index=False)"
   ]
  }
 ],
 "metadata": {
  "kernelspec": {
   "display_name": "venv",
   "language": "python",
   "name": "python3"
  },
  "language_info": {
   "codemirror_mode": {
    "name": "ipython",
    "version": 3
   },
   "file_extension": ".py",
   "mimetype": "text/x-python",
   "name": "python",
   "nbconvert_exporter": "python",
   "pygments_lexer": "ipython3",
   "version": "3.11.9"
  }
 },
 "nbformat": 4,
 "nbformat_minor": 5
}
