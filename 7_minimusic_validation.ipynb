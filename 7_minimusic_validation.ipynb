{
 "cells": [
  {
   "cell_type": "markdown",
   "metadata": {},
   "source": [
    "## Transform Mini-MUSIC data to same shape for DNN input"
   ]
  },
  {
   "cell_type": "code",
   "execution_count": 1,
   "metadata": {},
   "outputs": [],
   "source": [
    "import pandas as pd\n",
    "\n",
    "from utils.data import load_and_preprocess_data"
   ]
  },
  {
   "cell_type": "code",
   "execution_count": 2,
   "metadata": {},
   "outputs": [],
   "source": [
    "df = pd.read_csv(\"raw_data/mini_music_main_2025-02-06.csv\")"
   ]
  },
  {
   "cell_type": "code",
   "execution_count": 3,
   "metadata": {},
   "outputs": [
    {
     "name": "stdout",
     "output_type": "stream",
     "text": [
      "Number of patients: 53\n"
     ]
    }
   ],
   "source": [
    "print(f\"Number of patients: {df['study_id'].nunique()}\")\n"
   ]
  },
  {
   "cell_type": "code",
   "execution_count": 4,
   "metadata": {},
   "outputs": [],
   "source": [
    "columns_to_keep = [\n",
    "    \"study_id\",\n",
    "    \"redcap_event_name\",\n",
    "    \"study_group\",\n",
    "    \"date_of_diagnosis\",\n",
    "    \"age\",\n",
    "    \"sex\",\n",
    "    \"height\",\n",
    "    \"weight\",\n",
    "    \"bmi\",\n",
    "    \"sampling_asa\",\n",
    "    \"sampling_steroids_oral\",\n",
    "    \"sampling_steroids_iv\",\n",
    "    \"sampling_steroids_topical\",\n",
    "    \"sampling_imm\",\n",
    "    \"sampling_mtx\",\n",
    "    \"sampling_ifx\",\n",
    "    \"sampling_ada\",\n",
    "    \"sampling_vedo\",\n",
    "    \"sampling_uste\",\n",
    "    \"albumin\",\n",
    "    \"crp\",\n",
    "    \"haemoglobin\",\n",
    "    \"white_cell_count\",\n",
    "    \"neutrophils\",\n",
    "    \"lymphocytes\",\n",
    "    \"monocytes\",\n",
    "    \"eosinophils\",\n",
    "    \"basophils\",\n",
    "    \"platelets\",\n",
    "    \"urea\",\n",
    "    \"creatinine\",\n",
    "    \"sodium\",\n",
    "    \"potassium\",\n",
    "    \"calprotectin\",\n",
    "    \"cdparis_upper_gi\",\n",
    "    \"cdparis_behaviour\",\n",
    "    \"cdparis_location\",\n",
    "    \"cdparis_perianal\",\n",
    "    \"ucparis_severity\",\n",
    "    \"ucparis_extent\",\n",
    "    \"sample_date\",\n",
    "    \"fatigue_tscore\",  # fatigue outcome = 1 if tscore >50\n",
    "]\n",
    "\n",
    "df = df[columns_to_keep]"
   ]
  },
  {
   "cell_type": "code",
   "execution_count": 5,
   "metadata": {},
   "outputs": [],
   "source": [
    "# List of columns to fill\n",
    "columns_to_fill = [\n",
    "    \"study_group\",\n",
    "    \"date_of_diagnosis\",\n",
    "    \"age\",\n",
    "    \"sex\",\n",
    "    \"cdparis_upper_gi\",\n",
    "    \"cdparis_behaviour\",\n",
    "    \"cdparis_location\",\n",
    "    \"cdparis_perianal\",\n",
    "    \"ucparis_severity\",\n",
    "    \"ucparis_extent\",\n",
    "]\n",
    "\n",
    "# Extract the timepoint_1 info for the specified columns for each study_id\n",
    "tp1_info = df[df[\"redcap_event_name\"] == \"timepoint_1\"][[\"study_id\"] + columns_to_fill]\n",
    "tp1_info = tp1_info.rename(columns={col: f\"tp1_{col}\" for col in columns_to_fill})\n",
    "\n",
    "# Merge the timepoint_1 values onto all rows based on study_id\n",
    "df = df.merge(tp1_info, on=\"study_id\", how=\"left\")\n",
    "\n",
    "# For rows that are not timepoint_1, update the columns with the corresponding timepoint_1 values\n",
    "mask = df[\"redcap_event_name\"] != \"timepoint_1\"\n",
    "for col in columns_to_fill:\n",
    "    df.loc[mask, col] = df.loc[mask, f\"tp1_{col}\"]\n",
    "\n",
    "# Clean up the extra tp1 columns\n",
    "df.drop([f\"tp1_{col}\" for col in columns_to_fill], axis=1, inplace=True)\n"
   ]
  },
  {
   "cell_type": "code",
   "execution_count": 6,
   "metadata": {},
   "outputs": [],
   "source": [
    "df[\"diagnosis_year\"] = pd.to_datetime(df[\"date_of_diagnosis\"], errors=\"coerce\").dt.year"
   ]
  },
  {
   "cell_type": "code",
   "execution_count": 7,
   "metadata": {},
   "outputs": [],
   "source": [
    "df[\"age_at_diagnosis\"] = df[\"age\"] - (\n",
    "    (\n",
    "        pd.to_datetime(df[\"sample_date\"]) - pd.to_datetime(df[\"date_of_diagnosis\"])\n",
    "    ).dt.days\n",
    "    / 365.25\n",
    ")"
   ]
  },
  {
   "cell_type": "code",
   "execution_count": 8,
   "metadata": {},
   "outputs": [],
   "source": [
    "delta_days = (\n",
    "    pd.to_datetime(df[\"sample_date\"])\n",
    "    - pd.to_datetime(df[\"date_of_diagnosis\"], errors=\"coerce\")\n",
    ").dt.days\n",
    "delta_days = delta_days.clip(lower=0)  # Replace negative differences with 0\n",
    "df[\"disease_duration_weeks\"] = delta_days / 7\n"
   ]
  },
  {
   "cell_type": "code",
   "execution_count": 9,
   "metadata": {},
   "outputs": [],
   "source": [
    "df[\"is_smoker_Ex-smoker\"] = 0\n",
    "df[\"is_smoker_Smoker\"] = 0\n",
    "df[\"is_smoker_Non-smoker\"] = 1"
   ]
  },
  {
   "cell_type": "code",
   "execution_count": 10,
   "metadata": {},
   "outputs": [],
   "source": [
    "df[\"fatigue_outcome\"] = (df[\"fatigue_tscore\"] > 50).astype(int)\n",
    "\n",
    "df.drop(columns=[\"fatigue_tscore\"], inplace=True)\n",
    "df.dropna(subset=[\"fatigue_outcome\"], inplace=True)"
   ]
  },
  {
   "cell_type": "code",
   "execution_count": 11,
   "metadata": {},
   "outputs": [],
   "source": [
    "# Rename cdparis_upper_gi to montreal_upper_gi with a binary transformation:\n",
    "# Assign 1 if the value is \"L4a\" or \"L4b\", otherwise 0.\n",
    "df[\"montreal_upper_gi\"] = df[\"cdparis_upper_gi\"].apply(\n",
    "    lambda x: 1 if x in [\"L4a\", \"L4b\"] else 0\n",
    ")\n",
    "df[\"montreal_perianal\"] = df[\"cdparis_perianal\"].apply(lambda x: 1 if x == \"yes\" else 0)\n",
    "df.drop(columns=[\"cdparis_upper_gi\", \"cdparis_perianal\"], inplace=True)"
   ]
  },
  {
   "cell_type": "code",
   "execution_count": 12,
   "metadata": {},
   "outputs": [],
   "source": [
    "df[\"montreal_cd_location_L1 Ileal\"] = (df[\"cdparis_location\"] == \"L1\").astype(int)\n",
    "df[\"montreal_cd_location_L2 Colonic\"] = (df[\"cdparis_location\"] == \"L2\").astype(int)\n",
    "df[\"montreal_cd_location_L3 Ileocolonic\"] = (df[\"cdparis_location\"] == \"L3\").astype(int)\n",
    "df[\"montreal_cd_behaviour_B1 Non-stricturing, non-penetrating\"] = (\n",
    "    df[\"cdparis_behaviour\"] == \"B1\"\n",
    ").astype(int)\n",
    "df[\"montreal_cd_behaviour_B2 Stricturing\"] = (df[\"cdparis_behaviour\"] == \"B2\").astype(\n",
    "    int\n",
    ")\n",
    "df[\"montreal_cd_behaviour_B3 Penetrating\"] = (df[\"cdparis_behaviour\"] == \"B3\").astype(\n",
    "    int\n",
    ")\n",
    "df[\"montreal_uc_extent_E1 Proctitis\"] = (df[\"ucparis_extent\"] == \"E1\").astype(int)\n",
    "df[\"montreal_uc_extent_E2 Left-sided\"] = (df[\"ucparis_extent\"] == \"E2\").astype(int)\n",
    "df[\"montreal_uc_extent_E3 Extensive\"] = (\n",
    "    df[\"ucparis_extent\"].isin([\"E3\", \"E4\"]).astype(int)\n",
    ")\n",
    "df[\"montreal_uc_severity_S1 Mild\"] = (df[\"ucparis_severity\"] == \"S0\").astype(int)\n",
    "df[\"montreal_uc_severity_S3 Severe\"] = (df[\"ucparis_severity\"] == \"S1\").astype(int)\n",
    "df[\"montreal_uc_severity_S2 Moderate\"] = 0\n",
    "df[\"montreal_uc_severity_S0 Remission\"] = 0\n",
    "\n",
    "df.drop(\n",
    "    columns=[\n",
    "        \"cdparis_location\",\n",
    "        \"cdparis_behaviour\",\n",
    "        \"ucparis_extent\",\n",
    "        \"ucparis_severity\",\n",
    "    ],\n",
    "    inplace=True,\n",
    ")\n"
   ]
  },
  {
   "cell_type": "code",
   "execution_count": 13,
   "metadata": {},
   "outputs": [],
   "source": [
    "columns_to_fill_with_zero = [\n",
    "    \"sampling_abx\",\n",
    "    \"sampling_ciclosporin\",\n",
    "    \"sampling_filgo\",\n",
    "    \"sampling_mp\",\n",
    "    \"sampling_risa\",\n",
    "    \"sampling_tofa\",\n",
    "    \"sampling_upa\",\n",
    "]\n",
    "\n",
    "for col in columns_to_fill_with_zero:\n",
    "    df[col] = 0"
   ]
  },
  {
   "cell_type": "code",
   "execution_count": 14,
   "metadata": {},
   "outputs": [],
   "source": [
    "df = df[df[\"study_group\"] != \"non_ibd\"]"
   ]
  },
  {
   "cell_type": "code",
   "execution_count": 15,
   "metadata": {},
   "outputs": [],
   "source": [
    "df[\"study_group_name_CD\"] = (df[\"study_group\"] == \"cd\").astype(int)\n",
    "df[\"study_group_name_UC\"] = (df[\"study_group\"] == \"uc\").astype(int)\n",
    "df[\"study_group_name_IBDU\"] = (df[\"study_group\"] == \"ibdu\").astype(int)\n",
    "\n",
    "df.drop(columns=[\"study_group\"], inplace=True)"
   ]
  },
  {
   "cell_type": "code",
   "execution_count": 16,
   "metadata": {},
   "outputs": [],
   "source": [
    "df.rename(columns={\"sampling_imm\": \"sampling_aza\"}, inplace=True)"
   ]
  },
  {
   "cell_type": "code",
   "execution_count": 17,
   "metadata": {},
   "outputs": [],
   "source": [
    "df[\"sampling_steroids\"] = (\n",
    "    (df[\"sampling_steroids_oral\"] == 1)\n",
    "    | (df[\"sampling_steroids_iv\"] == 1)\n",
    "    | (df[\"sampling_steroids_topical\"] == 1)\n",
    ").astype(int)\n",
    "\n",
    "df.drop(\n",
    "    columns=[\n",
    "        \"sampling_steroids_oral\",\n",
    "        \"sampling_steroids_iv\",\n",
    "        \"sampling_steroids_topical\",\n",
    "    ],\n",
    "    inplace=True,\n",
    ")"
   ]
  },
  {
   "cell_type": "code",
   "execution_count": 18,
   "metadata": {},
   "outputs": [],
   "source": [
    "# Convert sample_date to datetime if not already\n",
    "df[\"sample_date\"] = pd.to_datetime(df[\"sample_date\"], errors=\"coerce\")\n",
    "\n",
    "\n",
    "# Define a function to determine the season from a month\n",
    "def get_season(month):\n",
    "    if month in (12, 1, 2):\n",
    "        return \"winter\"\n",
    "    elif month in (3, 4, 5):\n",
    "        return \"spring\"\n",
    "    elif month in (6, 7, 8):\n",
    "        return \"summer\"\n",
    "    elif month in (9, 10, 11):\n",
    "        return \"autumn\"\n",
    "    return None\n",
    "\n",
    "\n",
    "# Calculate the season for each row and store the result in a new column\n",
    "df[\"season\"] = df[\"sample_date\"].dt.month.apply(get_season)\n",
    "\n",
    "# One-hot encode the season column and ensure the dummy columns use 1 and 0\n",
    "df = pd.get_dummies(df, columns=[\"season\"], drop_first=True, dtype=int)\n",
    "\n",
    "df[\"season_autumn\"] = 0"
   ]
  },
  {
   "cell_type": "code",
   "execution_count": 19,
   "metadata": {},
   "outputs": [],
   "source": [
    "df.drop(\n",
    "    columns=[\"sample_date\", \"study_id\", \"date_of_diagnosis\", \"redcap_event_name\"],\n",
    "    inplace=True,\n",
    ")"
   ]
  },
  {
   "cell_type": "code",
   "execution_count": 20,
   "metadata": {},
   "outputs": [],
   "source": [
    "training_df = load_and_preprocess_data()\n",
    "df[\"red_cell_count\"] = training_df[\n",
    "    \"red_cell_count\"\n",
    "].median()  # impute missing red_cell_count with median"
   ]
  },
  {
   "cell_type": "code",
   "execution_count": 21,
   "metadata": {},
   "outputs": [],
   "source": [
    "target_df = pd.read_csv(\"output/dnn/export/X_test.csv\")"
   ]
  },
  {
   "cell_type": "code",
   "execution_count": 22,
   "metadata": {},
   "outputs": [],
   "source": [
    "# Reorder df columns to follow the same order as target_df,\n",
    "# then append 'fatigue_outcome' at the end if it exists in df.\n",
    "\n",
    "# Get the common columns in the order of target_df\n",
    "common_order = [col for col in target_df.columns if col in df.columns]\n",
    "\n",
    "# Append 'fatigue_outcome' if it's not already in the common_order\n",
    "if \"fatigue_outcome\" in df.columns and \"fatigue_outcome\" not in common_order:\n",
    "    common_order.append(\"fatigue_outcome\")\n",
    "\n",
    "df = df[common_order]"
   ]
  },
  {
   "cell_type": "code",
   "execution_count": 23,
   "metadata": {},
   "outputs": [],
   "source": [
    "df[\"calprotectin\"] = pd.to_numeric(df[\"calprotectin\"], errors=\"coerce\")"
   ]
  },
  {
   "cell_type": "code",
   "execution_count": 24,
   "metadata": {},
   "outputs": [],
   "source": [
    "columns_to_fill_with_median = [\n",
    "    \"age\",\n",
    "    \"height\",\n",
    "    \"weight\",\n",
    "    \"bmi\",\n",
    "    \"age_at_diagnosis\",\n",
    "    \"albumin\",\n",
    "    \"crp\",\n",
    "    \"haemoglobin\",\n",
    "    \"white_cell_count\",\n",
    "    \"neutrophils\",\n",
    "    \"lymphocytes\",\n",
    "    \"monocytes\",\n",
    "    \"eosinophils\",\n",
    "    \"basophils\",\n",
    "    \"platelets\",\n",
    "    \"urea\",\n",
    "    \"creatinine\",\n",
    "    \"sodium\",\n",
    "    \"potassium\",\n",
    "    \"calprotectin\",\n",
    "    \"disease_duration_weeks\",\n",
    "    \"diagnosis_year\",\n",
    "]\n",
    "\n",
    "for column in columns_to_fill_with_median:\n",
    "    df[column] = df[column].fillna(df[column].median())"
   ]
  },
  {
   "cell_type": "code",
   "execution_count": 25,
   "metadata": {},
   "outputs": [],
   "source": [
    "df[\"sex\"] = df[\"sex\"].map({\"male\": 1, \"female\": 0})"
   ]
  },
  {
   "cell_type": "code",
   "execution_count": 26,
   "metadata": {},
   "outputs": [
    {
     "name": "stdout",
     "output_type": "stream",
     "text": [
      "Columns only in filtered_df:\n",
      "['fatigue_outcome']\n",
      "\n",
      "Columns only in target_df:\n",
      "[]\n"
     ]
    }
   ],
   "source": [
    "common_columns = sorted(set(df.columns) & set(target_df.columns))\n",
    "only_in_filtered = sorted(set(df.columns) - set(target_df.columns))\n",
    "only_in_target = sorted(set(target_df.columns) - set(df.columns))\n",
    "\n",
    "print(\"Columns only in filtered_df:\")\n",
    "print(only_in_filtered)\n",
    "print(\"\\nColumns only in target_df:\")\n",
    "print(only_in_target)"
   ]
  },
  {
   "cell_type": "code",
   "execution_count": 27,
   "metadata": {},
   "outputs": [],
   "source": [
    "df.to_csv(\"data/minimusic_cleaned_validation.csv\", index=False)"
   ]
  },
  {
   "cell_type": "code",
   "execution_count": 28,
   "metadata": {},
   "outputs": [
    {
     "name": "stdout",
     "output_type": "stream",
     "text": [
      "Number of rows: 79\n"
     ]
    }
   ],
   "source": [
    "print(f\"Number of rows: {df.shape[0]}\")"
   ]
  }
 ],
 "metadata": {
  "kernelspec": {
   "display_name": "venv",
   "language": "python",
   "name": "python3"
  },
  "language_info": {
   "codemirror_mode": {
    "name": "ipython",
    "version": 3
   },
   "file_extension": ".py",
   "mimetype": "text/x-python",
   "name": "python",
   "nbconvert_exporter": "python",
   "pygments_lexer": "ipython3",
   "version": "3.11.9"
  }
 },
 "nbformat": 4,
 "nbformat_minor": 2
}
